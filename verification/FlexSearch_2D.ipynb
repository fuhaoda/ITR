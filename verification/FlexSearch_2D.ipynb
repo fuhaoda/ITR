{
 "cells": [
  {
   "cell_type": "code",
   "execution_count": 1,
   "metadata": {
    "collapsed": true
   },
   "outputs": [],
   "source": [
    "import pandas as pd\n",
    "import numpy as np\n",
    "import math\n",
    "import operator\n",
    "from itertools import combinations"
   ]
  },
  {
   "cell_type": "code",
   "execution_count": 2,
   "metadata": {
    "collapsed": true
   },
   "outputs": [],
   "source": [
    "def subsets(s):\n",
    "    sets = []\n",
    "    for i in range(1 << len(s)):\n",
    "        subset = [s[bit] for bit in range(len(s)) if is_bit_set(i, bit)]\n",
    "        sets.append(subset)\n",
    "    return sets\n",
    "\n",
    "def halfsubsets(s):\n",
    "    sets = []\n",
    "    for i in range(1 << len(s)):\n",
    "        subset = [s[bit] for bit in range(len(s)) if is_bit_set(i, bit)]\n",
    "        if(len(subset) <= len(s)/2):\n",
    "            sets.append(subset)\n",
    "    return sets\n",
    "\n",
    "def is_bit_set(num, bit):\n",
    "    return num & (1 << bit) > 0"
   ]
  },
  {
   "cell_type": "markdown",
   "metadata": {},
   "source": [
    "# Load CSV Data"
   ]
  },
  {
   "cell_type": "code",
   "execution_count": 3,
   "metadata": {
    "collapsed": true
   },
   "outputs": [],
   "source": [
    "df = pd.read_csv('TestSample_100_XTable.csv')\n",
    "del df['Unnamed: 0']"
   ]
  },
  {
   "cell_type": "markdown",
   "metadata": {},
   "source": [
    "## Step 1. Create cut info¶"
   ]
  },
  {
   "cell_type": "code",
   "execution_count": 4,
   "metadata": {
    "collapsed": true
   },
   "outputs": [],
   "source": [
    "unique_X0 = sorted((df['Cont1']+1).unique())\n",
    "unique_X1 = sorted((df['Cont2']+1).unique())\n",
    "unique_X2 = sorted((df['Cont3']+1).unique())\n",
    "unique_X3 = sorted((df['Ord1']+1).unique())\n",
    "unique_X4 = sorted((df['Ord2']+1).unique())\n",
    "unique_X5 = sorted((df['Ord3']+1).unique())\n",
    "unique_X6 = sorted(df['Nom1'].unique())\n",
    "sets_X6 = halfsubsets(unique_X6)\n",
    "unique_X7 = sorted(df['Nom2'].unique())\n",
    "sets_X7 = halfsubsets(unique_X7)\n",
    "unique_X8 = sorted(df['Nom3'].unique())\n",
    "sets_X8 = halfsubsets(unique_X8)"
   ]
  },
  {
   "cell_type": "code",
   "execution_count": 5,
   "metadata": {},
   "outputs": [
    {
     "data": {
      "text/html": [
       "<div>\n",
       "<style>\n",
       "    .dataframe thead tr:only-child th {\n",
       "        text-align: right;\n",
       "    }\n",
       "\n",
       "    .dataframe thead th {\n",
       "        text-align: left;\n",
       "    }\n",
       "\n",
       "    .dataframe tbody tr th {\n",
       "        vertical-align: top;\n",
       "    }\n",
       "</style>\n",
       "<table border=\"1\" class=\"dataframe\">\n",
       "  <thead>\n",
       "    <tr style=\"text-align: right;\">\n",
       "      <th></th>\n",
       "      <th>var i</th>\n",
       "      <th>var j</th>\n",
       "    </tr>\n",
       "  </thead>\n",
       "  <tbody>\n",
       "    <tr>\n",
       "      <th>0</th>\n",
       "      <td>0</td>\n",
       "      <td>1</td>\n",
       "    </tr>\n",
       "    <tr>\n",
       "      <th>1</th>\n",
       "      <td>0</td>\n",
       "      <td>2</td>\n",
       "    </tr>\n",
       "    <tr>\n",
       "      <th>2</th>\n",
       "      <td>0</td>\n",
       "      <td>3</td>\n",
       "    </tr>\n",
       "    <tr>\n",
       "      <th>3</th>\n",
       "      <td>0</td>\n",
       "      <td>4</td>\n",
       "    </tr>\n",
       "    <tr>\n",
       "      <th>4</th>\n",
       "      <td>0</td>\n",
       "      <td>5</td>\n",
       "    </tr>\n",
       "    <tr>\n",
       "      <th>5</th>\n",
       "      <td>0</td>\n",
       "      <td>6</td>\n",
       "    </tr>\n",
       "    <tr>\n",
       "      <th>6</th>\n",
       "      <td>0</td>\n",
       "      <td>7</td>\n",
       "    </tr>\n",
       "    <tr>\n",
       "      <th>7</th>\n",
       "      <td>0</td>\n",
       "      <td>8</td>\n",
       "    </tr>\n",
       "    <tr>\n",
       "      <th>8</th>\n",
       "      <td>1</td>\n",
       "      <td>2</td>\n",
       "    </tr>\n",
       "    <tr>\n",
       "      <th>9</th>\n",
       "      <td>1</td>\n",
       "      <td>3</td>\n",
       "    </tr>\n",
       "    <tr>\n",
       "      <th>10</th>\n",
       "      <td>1</td>\n",
       "      <td>4</td>\n",
       "    </tr>\n",
       "    <tr>\n",
       "      <th>11</th>\n",
       "      <td>1</td>\n",
       "      <td>5</td>\n",
       "    </tr>\n",
       "    <tr>\n",
       "      <th>12</th>\n",
       "      <td>1</td>\n",
       "      <td>6</td>\n",
       "    </tr>\n",
       "    <tr>\n",
       "      <th>13</th>\n",
       "      <td>1</td>\n",
       "      <td>7</td>\n",
       "    </tr>\n",
       "    <tr>\n",
       "      <th>14</th>\n",
       "      <td>1</td>\n",
       "      <td>8</td>\n",
       "    </tr>\n",
       "    <tr>\n",
       "      <th>15</th>\n",
       "      <td>2</td>\n",
       "      <td>3</td>\n",
       "    </tr>\n",
       "    <tr>\n",
       "      <th>16</th>\n",
       "      <td>2</td>\n",
       "      <td>4</td>\n",
       "    </tr>\n",
       "    <tr>\n",
       "      <th>17</th>\n",
       "      <td>2</td>\n",
       "      <td>5</td>\n",
       "    </tr>\n",
       "    <tr>\n",
       "      <th>18</th>\n",
       "      <td>2</td>\n",
       "      <td>6</td>\n",
       "    </tr>\n",
       "    <tr>\n",
       "      <th>19</th>\n",
       "      <td>2</td>\n",
       "      <td>7</td>\n",
       "    </tr>\n",
       "    <tr>\n",
       "      <th>20</th>\n",
       "      <td>2</td>\n",
       "      <td>8</td>\n",
       "    </tr>\n",
       "    <tr>\n",
       "      <th>21</th>\n",
       "      <td>3</td>\n",
       "      <td>4</td>\n",
       "    </tr>\n",
       "    <tr>\n",
       "      <th>22</th>\n",
       "      <td>3</td>\n",
       "      <td>5</td>\n",
       "    </tr>\n",
       "    <tr>\n",
       "      <th>23</th>\n",
       "      <td>3</td>\n",
       "      <td>6</td>\n",
       "    </tr>\n",
       "    <tr>\n",
       "      <th>24</th>\n",
       "      <td>3</td>\n",
       "      <td>7</td>\n",
       "    </tr>\n",
       "    <tr>\n",
       "      <th>25</th>\n",
       "      <td>3</td>\n",
       "      <td>8</td>\n",
       "    </tr>\n",
       "    <tr>\n",
       "      <th>26</th>\n",
       "      <td>4</td>\n",
       "      <td>5</td>\n",
       "    </tr>\n",
       "    <tr>\n",
       "      <th>27</th>\n",
       "      <td>4</td>\n",
       "      <td>6</td>\n",
       "    </tr>\n",
       "    <tr>\n",
       "      <th>28</th>\n",
       "      <td>4</td>\n",
       "      <td>7</td>\n",
       "    </tr>\n",
       "    <tr>\n",
       "      <th>29</th>\n",
       "      <td>4</td>\n",
       "      <td>8</td>\n",
       "    </tr>\n",
       "    <tr>\n",
       "      <th>30</th>\n",
       "      <td>5</td>\n",
       "      <td>6</td>\n",
       "    </tr>\n",
       "    <tr>\n",
       "      <th>31</th>\n",
       "      <td>5</td>\n",
       "      <td>7</td>\n",
       "    </tr>\n",
       "    <tr>\n",
       "      <th>32</th>\n",
       "      <td>5</td>\n",
       "      <td>8</td>\n",
       "    </tr>\n",
       "    <tr>\n",
       "      <th>33</th>\n",
       "      <td>6</td>\n",
       "      <td>7</td>\n",
       "    </tr>\n",
       "    <tr>\n",
       "      <th>34</th>\n",
       "      <td>6</td>\n",
       "      <td>8</td>\n",
       "    </tr>\n",
       "    <tr>\n",
       "      <th>35</th>\n",
       "      <td>7</td>\n",
       "      <td>8</td>\n",
       "    </tr>\n",
       "  </tbody>\n",
       "</table>\n",
       "</div>"
      ],
      "text/plain": [
       "    var i  var j\n",
       "0       0      1\n",
       "1       0      2\n",
       "2       0      3\n",
       "3       0      4\n",
       "4       0      5\n",
       "5       0      6\n",
       "6       0      7\n",
       "7       0      8\n",
       "8       1      2\n",
       "9       1      3\n",
       "10      1      4\n",
       "11      1      5\n",
       "12      1      6\n",
       "13      1      7\n",
       "14      1      8\n",
       "15      2      3\n",
       "16      2      4\n",
       "17      2      5\n",
       "18      2      6\n",
       "19      2      7\n",
       "20      2      8\n",
       "21      3      4\n",
       "22      3      5\n",
       "23      3      6\n",
       "24      3      7\n",
       "25      3      8\n",
       "26      4      5\n",
       "27      4      6\n",
       "28      4      7\n",
       "29      4      8\n",
       "30      5      6\n",
       "31      5      7\n",
       "32      5      8\n",
       "33      6      7\n",
       "34      6      8\n",
       "35      7      8"
      ]
     },
     "execution_count": 5,
     "metadata": {},
     "output_type": "execute_result"
    }
   ],
   "source": [
    "var = [0,1,2,3,4,5,6,7,8]\n",
    "var_comb = list(combinations(var,2))\n",
    "var_info = pd.DataFrame(var_comb)\n",
    "var_info.columns = ['var i','var j']\n",
    "var_info"
   ]
  },
  {
   "cell_type": "code",
   "execution_count": 6,
   "metadata": {},
   "outputs": [
    {
     "data": {
      "text/plain": [
       "36"
      ]
     },
     "execution_count": 6,
     "metadata": {},
     "output_type": "execute_result"
    }
   ],
   "source": [
    "len(var_info)"
   ]
  },
  {
   "cell_type": "markdown",
   "metadata": {},
   "source": [
    "## Step 2. Search"
   ]
  },
  {
   "cell_type": "markdown",
   "metadata": {},
   "source": [
    "### Case 1. var0 and var1 (Cont 1 and Cont 2)"
   ]
  },
  {
   "cell_type": "code",
   "execution_count": 7,
   "metadata": {
    "collapsed": true
   },
   "outputs": [],
   "source": [
    "Results = []\n",
    "ResultsIndex = []\n",
    "for i in unique_X0:\n",
    "    for j in unique_X1: \n",
    "        X_Search = df.copy()[['Cont1','Cont2','A','Y']];\n",
    "        X_Search['C1'] = df['Cont1'].apply(lambda x : 1 if x<i else 0)\n",
    "        X_Search['C2'] = df['Cont2'].apply(lambda x : 1 if x<j else 0)\n",
    "        X_Search['D1'] = X_Search.apply(lambda row: 1 if (row['C1']==1)&(row['C2']==1) else 0, axis=1)\n",
    "        X_Search['D2'] = X_Search.apply(lambda row: 1 if (row['C1']==1)&(row['C2']==0) else 0, axis=1)\n",
    "        X_Search['D3'] = X_Search.apply(lambda row: 1 if (row['C1']==0)&(row['C2']==1) else 0, axis=1)\n",
    "        X_Search['D4'] = X_Search.apply(lambda row: 1 if (row['C1']==0)&(row['C2']==0) else 0, axis=1)\n",
    "        X_Search['E1'] = np.where(X_Search['D1']==X_Search['A'], 1, 0)\n",
    "        X_Search['E2'] = np.where(X_Search['D2']==X_Search['A'], 1, 0)\n",
    "        X_Search['E3'] = np.where(X_Search['D3']==X_Search['A'], 1, 0)\n",
    "        X_Search['E4'] = np.where(X_Search['D4']==X_Search['A'], 1, 0)\n",
    "        E_X_Search_1 = sum(X_Search['Y']*X_Search['E1'])*2/df.shape[0]\n",
    "        E_X_Search_2 = sum(X_Search['Y']*X_Search['E2'])*2/df.shape[0]\n",
    "        E_X_Search_3 = sum(X_Search['Y']*X_Search['E3'])*2/df.shape[0]\n",
    "        E_X_Search_4 = sum(X_Search['Y']*X_Search['E4'])*2/df.shape[0]\n",
    "        E = [E_X_Search_4,E_X_Search_3,E_X_Search_2,E_X_Search_1]\n",
    "        index, value = max(enumerate(E), key=operator.itemgetter(1))\n",
    "        Results.append(value)\n",
    "        ResultsIndex.append(index)"
   ]
  },
  {
   "cell_type": "code",
   "execution_count": 8,
   "metadata": {},
   "outputs": [
    {
     "name": "stdout",
     "output_type": "stream",
     "text": [
      "cut index: 8 1\n",
      "max: 62.5633994\n",
      "dir: 3\n"
     ]
    }
   ],
   "source": [
    "index, value = max(enumerate(Results), key=operator.itemgetter(1))\n",
    "print(\"cut index: \"+str(index//10+1)+' '+str(index%10+1))\n",
    "print(\"max: \"+str(value))\n",
    "print(\"dir: \"+str(ResultsIndex[index]))"
   ]
  },
  {
   "cell_type": "markdown",
   "metadata": {},
   "source": [
    "### Case 2. var4 and var5 (Ord 2 and Ord 3)"
   ]
  },
  {
   "cell_type": "code",
   "execution_count": 9,
   "metadata": {
    "collapsed": true
   },
   "outputs": [],
   "source": [
    "Results = []\n",
    "ResultsIndex = []\n",
    "for i in unique_X4:\n",
    "    for j in unique_X5: \n",
    "        X_Search = df.copy()[['Ord2','Ord3','A','Y']];\n",
    "        X_Search['C1'] = df['Ord2'].apply(lambda x : 1 if x<i else 0)\n",
    "        X_Search['C2'] = df['Ord3'].apply(lambda x : 1 if x<j else 0)\n",
    "        X_Search['D1'] = X_Search.apply(lambda row: 1 if (row['C1']==1)&(row['C2']==1) else 0, axis=1)\n",
    "        X_Search['D2'] = X_Search.apply(lambda row: 1 if (row['C1']==1)&(row['C2']==0) else 0, axis=1)\n",
    "        X_Search['D3'] = X_Search.apply(lambda row: 1 if (row['C1']==0)&(row['C2']==1) else 0, axis=1)\n",
    "        X_Search['D4'] = X_Search.apply(lambda row: 1 if (row['C1']==0)&(row['C2']==0) else 0, axis=1)\n",
    "        X_Search['E1'] = np.where(X_Search['D1']==X_Search['A'], 1, 0)\n",
    "        X_Search['E2'] = np.where(X_Search['D2']==X_Search['A'], 1, 0)\n",
    "        X_Search['E3'] = np.where(X_Search['D3']==X_Search['A'], 1, 0)\n",
    "        X_Search['E4'] = np.where(X_Search['D4']==X_Search['A'], 1, 0)\n",
    "        E_X_Search_1 = sum(X_Search['Y']*X_Search['E1'])*2/df.shape[0]\n",
    "        E_X_Search_2 = sum(X_Search['Y']*X_Search['E2'])*2/df.shape[0]\n",
    "        E_X_Search_3 = sum(X_Search['Y']*X_Search['E3'])*2/df.shape[0]\n",
    "        E_X_Search_4 = sum(X_Search['Y']*X_Search['E4'])*2/df.shape[0]\n",
    "        E = [E_X_Search_4,E_X_Search_3,E_X_Search_2,E_X_Search_1]\n",
    "        index, value = max(enumerate(E), key=operator.itemgetter(1))\n",
    "        Results.append(value)\n",
    "        ResultsIndex.append(index) "
   ]
  },
  {
   "cell_type": "code",
   "execution_count": 10,
   "metadata": {},
   "outputs": [
    {
     "name": "stdout",
     "output_type": "stream",
     "text": [
      "cut index: 4 1\n",
      "max: 58.7436554\n",
      "dir: 1\n"
     ]
    }
   ],
   "source": [
    "index, value = max(enumerate(Results), key=operator.itemgetter(1))\n",
    "print(\"cut index: \"+str(index//5+1)+' '+str(index%5+1))\n",
    "print(\"max: \"+str(value))\n",
    "print(\"dir: \"+str(ResultsIndex[index]))"
   ]
  },
  {
   "cell_type": "markdown",
   "metadata": {},
   "source": [
    "### Case 3. var6 and var8 (Nom 1 and Nom 3)"
   ]
  },
  {
   "cell_type": "code",
   "execution_count": 11,
   "metadata": {},
   "outputs": [],
   "source": [
    "Results = []\n",
    "ResultsIndex = []\n",
    "for i in range(len(sets_X6)):\n",
    "    for j in range(len(sets_X8)):\n",
    "        X_Search = df.copy()[['Nom1','Nom3','A','Y']];\n",
    "        X_Search['C1'] = df['Nom1'].apply(lambda x : 1 if x in sets_X6[i] else 0)\n",
    "        X_Search['C2'] = df['Nom3'].apply(lambda x : 1 if x in sets_X8[j] else 0)\n",
    "        X_Search['D1'] = X_Search.apply(lambda row: 1 if (row['C1']==1)&(row['C2']==1) else 0, axis=1)\n",
    "        X_Search['D2'] = X_Search.apply(lambda row: 1 if (row['C1']==1)&(row['C2']==0) else 0, axis=1)\n",
    "        X_Search['D3'] = X_Search.apply(lambda row: 1 if (row['C1']==0)&(row['C2']==1) else 0, axis=1)\n",
    "        X_Search['D4'] = X_Search.apply(lambda row: 1 if (row['C1']==0)&(row['C2']==0) else 0, axis=1)\n",
    "        X_Search['E1'] = np.where(X_Search['D1']==X_Search['A'], 1, 0)\n",
    "        X_Search['E2'] = np.where(X_Search['D2']==X_Search['A'], 1, 0)\n",
    "        X_Search['E3'] = np.where(X_Search['D3']==X_Search['A'], 1, 0)\n",
    "        X_Search['E4'] = np.where(X_Search['D4']==X_Search['A'], 1, 0)\n",
    "        E_X_Search_1 = sum(X_Search['Y']*X_Search['E1'])*2/df.shape[0]\n",
    "        E_X_Search_2 = sum(X_Search['Y']*X_Search['E2'])*2/df.shape[0]\n",
    "        E_X_Search_3 = sum(X_Search['Y']*X_Search['E3'])*2/df.shape[0]\n",
    "        E_X_Search_4 = sum(X_Search['Y']*X_Search['E4'])*2/df.shape[0]\n",
    "        E = [E_X_Search_4,E_X_Search_3,E_X_Search_2,E_X_Search_1]\n",
    "        index, value = max(enumerate(E), key=operator.itemgetter(1))\n",
    "        Results.append(value)\n",
    "        ResultsIndex.append(index) "
   ]
  },
  {
   "cell_type": "code",
   "execution_count": 12,
   "metadata": {},
   "outputs": [
    {
     "name": "stdout",
     "output_type": "stream",
     "text": [
      "cut index: 8 2\n",
      "max: 62.5289174\n",
      "dir: 1\n"
     ]
    }
   ],
   "source": [
    "index, value = max(enumerate(Results), key=operator.itemgetter(1))\n",
    "print(\"cut index: \"+str(index//16)+' '+str(index%16))\n",
    "print(\"max: \"+str(value))\n",
    "print(\"dir: \"+str(ResultsIndex[index]))"
   ]
  },
  {
   "cell_type": "markdown",
   "metadata": {},
   "source": [
    "### Case 4. var0 and var3 (Cont 1 and Ord 1)"
   ]
  },
  {
   "cell_type": "code",
   "execution_count": 13,
   "metadata": {
    "collapsed": true
   },
   "outputs": [],
   "source": [
    "Results = []\n",
    "ResultsIndex = []\n",
    "for i in unique_X0:\n",
    "    for j in unique_X3: \n",
    "        X_Search = df.copy()[['Cont1','Ord1','A','Y']];\n",
    "        X_Search['C1'] = df['Cont1'].apply(lambda x : 1 if x<i else 0)\n",
    "        X_Search['C2'] = df['Ord1'].apply(lambda x : 1 if x<j else 0)\n",
    "        X_Search['D1'] = X_Search.apply(lambda row: 1 if (row['C1']==1)&(row['C2']==1) else 0, axis=1)\n",
    "        X_Search['D2'] = X_Search.apply(lambda row: 1 if (row['C1']==1)&(row['C2']==0) else 0, axis=1)\n",
    "        X_Search['D3'] = X_Search.apply(lambda row: 1 if (row['C1']==0)&(row['C2']==1) else 0, axis=1)\n",
    "        X_Search['D4'] = X_Search.apply(lambda row: 1 if (row['C1']==0)&(row['C2']==0) else 0, axis=1)\n",
    "        X_Search['E1'] = np.where(X_Search['D1']==X_Search['A'], 1, 0)\n",
    "        X_Search['E2'] = np.where(X_Search['D2']==X_Search['A'], 1, 0)\n",
    "        X_Search['E3'] = np.where(X_Search['D3']==X_Search['A'], 1, 0)\n",
    "        X_Search['E4'] = np.where(X_Search['D4']==X_Search['A'], 1, 0)\n",
    "        E_X_Search_1 = sum(X_Search['Y']*X_Search['E1'])*2/df.shape[0]\n",
    "        E_X_Search_2 = sum(X_Search['Y']*X_Search['E2'])*2/df.shape[0]\n",
    "        E_X_Search_3 = sum(X_Search['Y']*X_Search['E3'])*2/df.shape[0]\n",
    "        E_X_Search_4 = sum(X_Search['Y']*X_Search['E4'])*2/df.shape[0]\n",
    "        E = [E_X_Search_4,E_X_Search_3,E_X_Search_2,E_X_Search_1]\n",
    "        index, value = max(enumerate(E), key=operator.itemgetter(1))\n",
    "        Results.append(value)\n",
    "        ResultsIndex.append(index) "
   ]
  },
  {
   "cell_type": "code",
   "execution_count": 14,
   "metadata": {},
   "outputs": [
    {
     "name": "stdout",
     "output_type": "stream",
     "text": [
      "cut index: 9 1\n",
      "max: 60.4943514\n",
      "dir: 0\n"
     ]
    }
   ],
   "source": [
    "index, value = max(enumerate(Results), key=operator.itemgetter(1))\n",
    "print(\"cut index: \"+str(index//5+1)+' '+str(index%10+1))\n",
    "print(\"max: \"+str(value))\n",
    "print(\"dir: \"+str(ResultsIndex[index]))"
   ]
  },
  {
   "cell_type": "markdown",
   "metadata": {},
   "source": [
    "### Case 5. var1 and var7 (Cont 2 and Nom 2)"
   ]
  },
  {
   "cell_type": "code",
   "execution_count": 15,
   "metadata": {
    "collapsed": true
   },
   "outputs": [],
   "source": [
    "Results = []\n",
    "ResultsIndex = []\n",
    "for i in unique_X1:\n",
    "    for j in range(len(sets_X7)):\n",
    "        X_Search = df.copy()[['Cont2','Nom2','A','Y']];\n",
    "        X_Search['C1'] = df['Cont2'].apply(lambda x : 1 if x<i else 0)\n",
    "        X_Search['C2'] = df['Nom2'].apply(lambda x : 1 if x in sets_X7[j] else 0)\n",
    "        X_Search['D1'] = X_Search.apply(lambda row: 1 if (row['C1']==1)&(row['C2']==1) else 0, axis=1)\n",
    "        X_Search['D2'] = X_Search.apply(lambda row: 1 if (row['C1']==1)&(row['C2']==0) else 0, axis=1)\n",
    "        X_Search['D3'] = X_Search.apply(lambda row: 1 if (row['C1']==0)&(row['C2']==1) else 0, axis=1)\n",
    "        X_Search['D4'] = X_Search.apply(lambda row: 1 if (row['C1']==0)&(row['C2']==0) else 0, axis=1)\n",
    "        X_Search['E1'] = np.where(X_Search['D1']==X_Search['A'], 1, 0)\n",
    "        X_Search['E2'] = np.where(X_Search['D2']==X_Search['A'], 1, 0)\n",
    "        X_Search['E3'] = np.where(X_Search['D3']==X_Search['A'], 1, 0)\n",
    "        X_Search['E4'] = np.where(X_Search['D4']==X_Search['A'], 1, 0)\n",
    "        E_X_Search_1 = sum(X_Search['Y']*X_Search['E1'])*2/df.shape[0]\n",
    "        E_X_Search_2 = sum(X_Search['Y']*X_Search['E2'])*2/df.shape[0]\n",
    "        E_X_Search_3 = sum(X_Search['Y']*X_Search['E3'])*2/df.shape[0]\n",
    "        E_X_Search_4 = sum(X_Search['Y']*X_Search['E4'])*2/df.shape[0]\n",
    "        E = [E_X_Search_4,E_X_Search_3,E_X_Search_2,E_X_Search_1]\n",
    "        index, value = max(enumerate(E), key=operator.itemgetter(1))\n",
    "        Results.append(value)\n",
    "        ResultsIndex.append(index) "
   ]
  },
  {
   "cell_type": "code",
   "execution_count": 16,
   "metadata": {},
   "outputs": [
    {
     "name": "stdout",
     "output_type": "stream",
     "text": [
      "cut index: 5 13\n",
      "max: 64.6361894\n",
      "dir: 3\n"
     ]
    }
   ],
   "source": [
    "index, value = max(enumerate(Results), key=operator.itemgetter(1))\n",
    "print(\"cut index: \"+str(index//16+1)+' '+str(index%16))\n",
    "print(\"max: \"+str(value))\n",
    "print(\"dir: \"+str(ResultsIndex[index]))"
   ]
  },
  {
   "cell_type": "markdown",
   "metadata": {},
   "source": [
    "### Case 6. var5 and var8 (Ord 3 and Nom 3)"
   ]
  },
  {
   "cell_type": "code",
   "execution_count": 17,
   "metadata": {
    "collapsed": true
   },
   "outputs": [],
   "source": [
    "Results = []\n",
    "ResultsIndex = []\n",
    "for i in unique_X5:\n",
    "    for j in range(len(sets_X8)):\n",
    "        X_Search = df.copy()[['Ord3','Nom3','A','Y']];\n",
    "        X_Search['C1'] = df['Ord3'].apply(lambda x : 1 if x<i else 0)\n",
    "        X_Search['C2'] = df['Nom3'].apply(lambda x : 1 if x in sets_X7[j] else 0)\n",
    "        X_Search['D1'] = X_Search.apply(lambda row: 1 if (row['C1']==1)&(row['C2']==1) else 0, axis=1)\n",
    "        X_Search['D2'] = X_Search.apply(lambda row: 1 if (row['C1']==1)&(row['C2']==0) else 0, axis=1)\n",
    "        X_Search['D3'] = X_Search.apply(lambda row: 1 if (row['C1']==0)&(row['C2']==1) else 0, axis=1)\n",
    "        X_Search['D4'] = X_Search.apply(lambda row: 1 if (row['C1']==0)&(row['C2']==0) else 0, axis=1)\n",
    "        X_Search['E1'] = np.where(X_Search['D1']==X_Search['A'], 1, 0)\n",
    "        X_Search['E2'] = np.where(X_Search['D2']==X_Search['A'], 1, 0)\n",
    "        X_Search['E3'] = np.where(X_Search['D3']==X_Search['A'], 1, 0)\n",
    "        X_Search['E4'] = np.where(X_Search['D4']==X_Search['A'], 1, 0)\n",
    "        E_X_Search_1 = sum(X_Search['Y']*X_Search['E1'])*2/df.shape[0]\n",
    "        E_X_Search_2 = sum(X_Search['Y']*X_Search['E2'])*2/df.shape[0]\n",
    "        E_X_Search_3 = sum(X_Search['Y']*X_Search['E3'])*2/df.shape[0]\n",
    "        E_X_Search_4 = sum(X_Search['Y']*X_Search['E4'])*2/df.shape[0]\n",
    "        E = [E_X_Search_4,E_X_Search_3,E_X_Search_2,E_X_Search_1]\n",
    "        index, value = max(enumerate(E), key=operator.itemgetter(1))\n",
    "        Results.append(value)\n",
    "        ResultsIndex.append(index) "
   ]
  },
  {
   "cell_type": "code",
   "execution_count": 18,
   "metadata": {},
   "outputs": [
    {
     "name": "stdout",
     "output_type": "stream",
     "text": [
      "cut index: 1 15\n",
      "max: 59.9727634\n",
      "dir: 2\n"
     ]
    }
   ],
   "source": [
    "index, value = max(enumerate(Results), key=operator.itemgetter(1))\n",
    "print(\"cut index: \"+str(index//16+1)+' '+str(index%16))\n",
    "print(\"max: \"+str(value))\n",
    "print(\"dir: \"+str(ResultsIndex[index]))"
   ]
  }
 ],
 "metadata": {
  "kernelspec": {
   "display_name": "Python 3",
   "language": "python",
   "name": "python3"
  },
  "language_info": {
   "codemirror_mode": {
    "name": "ipython",
    "version": 3
   },
   "file_extension": ".py",
   "mimetype": "text/x-python",
   "name": "python",
   "nbconvert_exporter": "python",
   "pygments_lexer": "ipython3",
   "version": "3.6.3"
  }
 },
 "nbformat": 4,
 "nbformat_minor": 2
}
