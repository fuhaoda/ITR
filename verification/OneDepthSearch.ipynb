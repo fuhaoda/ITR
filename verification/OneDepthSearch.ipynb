{
 "cells": [
  {
   "cell_type": "code",
   "execution_count": 1,
   "metadata": {
    "collapsed": true
   },
   "outputs": [],
   "source": [
    "import pandas as pd\n",
    "import numpy as np\n",
    "import math"
   ]
  },
  {
   "cell_type": "code",
   "execution_count": 2,
   "metadata": {
    "collapsed": true
   },
   "outputs": [],
   "source": [
    "def subsets(s):\n",
    "    sets = []\n",
    "    for i in range(1 << len(s)):\n",
    "        subset = [s[bit] for bit in range(len(s)) if is_bit_set(i, bit)]\n",
    "        sets.append(subset)\n",
    "    return sets\n",
    "\n",
    "def halfsubsets(s):\n",
    "    sets = []\n",
    "    for i in range(1 << len(s)):\n",
    "        subset = [s[bit] for bit in range(len(s)) if is_bit_set(i, bit)]\n",
    "        if(len(subset) <= len(s)/2):\n",
    "            sets.append(subset)\n",
    "    return sets\n",
    "\n",
    "def is_bit_set(num, bit):\n",
    "    return num & (1 << bit) > 0"
   ]
  },
  {
   "cell_type": "markdown",
   "metadata": {},
   "source": [
    "# I. Simple Test Data"
   ]
  },
  {
   "cell_type": "code",
   "execution_count": 3,
   "metadata": {},
   "outputs": [
    {
     "data": {
      "text/html": [
       "<div>\n",
       "<style>\n",
       "    .dataframe thead tr:only-child th {\n",
       "        text-align: right;\n",
       "    }\n",
       "\n",
       "    .dataframe thead th {\n",
       "        text-align: left;\n",
       "    }\n",
       "\n",
       "    .dataframe tbody tr th {\n",
       "        vertical-align: top;\n",
       "    }\n",
       "</style>\n",
       "<table border=\"1\" class=\"dataframe\">\n",
       "  <thead>\n",
       "    <tr style=\"text-align: right;\">\n",
       "      <th></th>\n",
       "      <th>Y</th>\n",
       "      <th>A</th>\n",
       "      <th>X</th>\n",
       "      <th>P(A|X)</th>\n",
       "      <th>D_A</th>\n",
       "      <th>D_B</th>\n",
       "      <th>D_A = A</th>\n",
       "      <th>D_B = B</th>\n",
       "    </tr>\n",
       "  </thead>\n",
       "  <tbody>\n",
       "    <tr>\n",
       "      <th>0</th>\n",
       "      <td>1</td>\n",
       "      <td>1</td>\n",
       "      <td>1</td>\n",
       "      <td>0.5</td>\n",
       "      <td>2</td>\n",
       "      <td>2</td>\n",
       "      <td>0</td>\n",
       "      <td>0</td>\n",
       "    </tr>\n",
       "    <tr>\n",
       "      <th>1</th>\n",
       "      <td>2</td>\n",
       "      <td>1</td>\n",
       "      <td>2</td>\n",
       "      <td>0.5</td>\n",
       "      <td>1</td>\n",
       "      <td>2</td>\n",
       "      <td>1</td>\n",
       "      <td>0</td>\n",
       "    </tr>\n",
       "    <tr>\n",
       "      <th>2</th>\n",
       "      <td>3</td>\n",
       "      <td>1</td>\n",
       "      <td>3</td>\n",
       "      <td>0.5</td>\n",
       "      <td>1</td>\n",
       "      <td>1</td>\n",
       "      <td>1</td>\n",
       "      <td>1</td>\n",
       "    </tr>\n",
       "    <tr>\n",
       "      <th>3</th>\n",
       "      <td>4</td>\n",
       "      <td>1</td>\n",
       "      <td>4</td>\n",
       "      <td>0.5</td>\n",
       "      <td>1</td>\n",
       "      <td>1</td>\n",
       "      <td>1</td>\n",
       "      <td>1</td>\n",
       "    </tr>\n",
       "    <tr>\n",
       "      <th>4</th>\n",
       "      <td>5</td>\n",
       "      <td>1</td>\n",
       "      <td>5</td>\n",
       "      <td>0.5</td>\n",
       "      <td>1</td>\n",
       "      <td>1</td>\n",
       "      <td>1</td>\n",
       "      <td>1</td>\n",
       "    </tr>\n",
       "    <tr>\n",
       "      <th>5</th>\n",
       "      <td>3</td>\n",
       "      <td>2</td>\n",
       "      <td>1</td>\n",
       "      <td>0.5</td>\n",
       "      <td>2</td>\n",
       "      <td>2</td>\n",
       "      <td>1</td>\n",
       "      <td>1</td>\n",
       "    </tr>\n",
       "    <tr>\n",
       "      <th>6</th>\n",
       "      <td>3</td>\n",
       "      <td>2</td>\n",
       "      <td>2</td>\n",
       "      <td>0.5</td>\n",
       "      <td>1</td>\n",
       "      <td>2</td>\n",
       "      <td>0</td>\n",
       "      <td>1</td>\n",
       "    </tr>\n",
       "    <tr>\n",
       "      <th>7</th>\n",
       "      <td>3</td>\n",
       "      <td>2</td>\n",
       "      <td>3</td>\n",
       "      <td>0.5</td>\n",
       "      <td>1</td>\n",
       "      <td>1</td>\n",
       "      <td>0</td>\n",
       "      <td>0</td>\n",
       "    </tr>\n",
       "    <tr>\n",
       "      <th>8</th>\n",
       "      <td>3</td>\n",
       "      <td>2</td>\n",
       "      <td>4</td>\n",
       "      <td>0.5</td>\n",
       "      <td>1</td>\n",
       "      <td>1</td>\n",
       "      <td>0</td>\n",
       "      <td>0</td>\n",
       "    </tr>\n",
       "    <tr>\n",
       "      <th>9</th>\n",
       "      <td>3</td>\n",
       "      <td>2</td>\n",
       "      <td>5</td>\n",
       "      <td>0.5</td>\n",
       "      <td>1</td>\n",
       "      <td>1</td>\n",
       "      <td>0</td>\n",
       "      <td>0</td>\n",
       "    </tr>\n",
       "  </tbody>\n",
       "</table>\n",
       "</div>"
      ],
      "text/plain": [
       "   Y  A  X  P(A|X)  D_A  D_B  D_A = A  D_B = B\n",
       "0  1  1  1     0.5    2    2        0        0\n",
       "1  2  1  2     0.5    1    2        1        0\n",
       "2  3  1  3     0.5    1    1        1        1\n",
       "3  4  1  4     0.5    1    1        1        1\n",
       "4  5  1  5     0.5    1    1        1        1\n",
       "5  3  2  1     0.5    2    2        1        1\n",
       "6  3  2  2     0.5    1    2        0        1\n",
       "7  3  2  3     0.5    1    1        0        0\n",
       "8  3  2  4     0.5    1    1        0        0\n",
       "9  3  2  5     0.5    1    1        0        0"
      ]
     },
     "execution_count": 3,
     "metadata": {},
     "output_type": "execute_result"
    }
   ],
   "source": [
    "df = pd.read_csv('SimpleTestData.csv')\n",
    "df"
   ]
  },
  {
   "cell_type": "markdown",
   "metadata": {},
   "source": [
    "### Part 1. Preprocess"
   ]
  },
  {
   "cell_type": "code",
   "execution_count": 4,
   "metadata": {},
   "outputs": [
    {
     "name": "stdout",
     "output_type": "stream",
     "text": [
      "Decision of Doc. Adam\n"
     ]
    },
    {
     "data": {
      "text/plain": [
       "array([0, 1, 1, 1, 1, 1, 0, 0, 0, 0])"
      ]
     },
     "execution_count": 4,
     "metadata": {},
     "output_type": "execute_result"
    }
   ],
   "source": [
    "D_Adam = df.copy()[['Y','A','X']]\n",
    "print(\"Decision of Doc. Adam\")\n",
    "D_Adam['D'] = df['X'].apply(lambda x : 2 if x>=2 else 1)\n",
    "D_Adam['E'] = np.where(D_Adam['D']==D_Adam['A'], 0, 1)\n",
    "D_Adam['E'].values"
   ]
  },
  {
   "cell_type": "code",
   "execution_count": 5,
   "metadata": {},
   "outputs": [
    {
     "name": "stdout",
     "output_type": "stream",
     "text": [
      "Decision of Doc. Barry\n"
     ]
    },
    {
     "data": {
      "text/plain": [
       "array([0, 0, 1, 1, 1, 1, 1, 0, 0, 0])"
      ]
     },
     "execution_count": 5,
     "metadata": {},
     "output_type": "execute_result"
    }
   ],
   "source": [
    "D_Barry = df.copy()[['Y','A','X']]\n",
    "print(\"Decision of Doc. Barry\")\n",
    "D_Barry['D'] = df['X'].apply(lambda x : 2 if x>=3 else 1)\n",
    "D_Barry['E'] = np.where(D_Barry['D']==D_Barry['A'], 0, 1)\n",
    "D_Barry['E'].values"
   ]
  },
  {
   "cell_type": "markdown",
   "metadata": {},
   "source": [
    "### Part II. Expect"
   ]
  },
  {
   "cell_type": "code",
   "execution_count": 6,
   "metadata": {},
   "outputs": [
    {
     "name": "stdout",
     "output_type": "stream",
     "text": [
      "Choice for Doc. Adam : 3.4\n"
     ]
    }
   ],
   "source": [
    "E_Adam = sum(D_Adam['Y']*D_Adam['E'])*2/df.shape[0]\n",
    "print(\"Choice for Doc. Adam : \" + str(E_Adam))"
   ]
  },
  {
   "cell_type": "code",
   "execution_count": 7,
   "metadata": {},
   "outputs": [
    {
     "name": "stdout",
     "output_type": "stream",
     "text": [
      "Choice for Doc. Adam : 3.6\n"
     ]
    }
   ],
   "source": [
    "E_Barry = sum(D_Barry['Y']*D_Barry['E'])*2/df.shape[0]\n",
    "print(\"Choice for Doc. Adam : \" + str(E_Barry))"
   ]
  },
  {
   "cell_type": "markdown",
   "metadata": {},
   "source": [
    "# Load CSV Data"
   ]
  },
  {
   "cell_type": "code",
   "execution_count": 8,
   "metadata": {},
   "outputs": [
    {
     "data": {
      "text/html": [
       "<div>\n",
       "<style>\n",
       "    .dataframe thead tr:only-child th {\n",
       "        text-align: right;\n",
       "    }\n",
       "\n",
       "    .dataframe thead th {\n",
       "        text-align: left;\n",
       "    }\n",
       "\n",
       "    .dataframe tbody tr th {\n",
       "        vertical-align: top;\n",
       "    }\n",
       "</style>\n",
       "<table border=\"1\" class=\"dataframe\">\n",
       "  <thead>\n",
       "    <tr style=\"text-align: right;\">\n",
       "      <th></th>\n",
       "      <th>ID</th>\n",
       "      <th>Cont1</th>\n",
       "      <th>Cont2</th>\n",
       "      <th>Cont3</th>\n",
       "      <th>Ord1</th>\n",
       "      <th>Ord2</th>\n",
       "      <th>Ord3</th>\n",
       "      <th>Nom1</th>\n",
       "      <th>Nom2</th>\n",
       "      <th>Nom3</th>\n",
       "      <th>A</th>\n",
       "      <th>Y</th>\n",
       "    </tr>\n",
       "  </thead>\n",
       "  <tbody>\n",
       "    <tr>\n",
       "      <th>0</th>\n",
       "      <td>1</td>\n",
       "      <td>0</td>\n",
       "      <td>1</td>\n",
       "      <td>7</td>\n",
       "      <td>4</td>\n",
       "      <td>2</td>\n",
       "      <td>0</td>\n",
       "      <td>4</td>\n",
       "      <td>3</td>\n",
       "      <td>3</td>\n",
       "      <td>0</td>\n",
       "      <td>31.2112</td>\n",
       "    </tr>\n",
       "    <tr>\n",
       "      <th>1</th>\n",
       "      <td>2</td>\n",
       "      <td>9</td>\n",
       "      <td>0</td>\n",
       "      <td>3</td>\n",
       "      <td>0</td>\n",
       "      <td>3</td>\n",
       "      <td>3</td>\n",
       "      <td>2</td>\n",
       "      <td>3</td>\n",
       "      <td>3</td>\n",
       "      <td>0</td>\n",
       "      <td>20.8458</td>\n",
       "    </tr>\n",
       "    <tr>\n",
       "      <th>2</th>\n",
       "      <td>3</td>\n",
       "      <td>2</td>\n",
       "      <td>7</td>\n",
       "      <td>0</td>\n",
       "      <td>1</td>\n",
       "      <td>3</td>\n",
       "      <td>3</td>\n",
       "      <td>4</td>\n",
       "      <td>1</td>\n",
       "      <td>3</td>\n",
       "      <td>0</td>\n",
       "      <td>94.7321</td>\n",
       "    </tr>\n",
       "    <tr>\n",
       "      <th>3</th>\n",
       "      <td>4</td>\n",
       "      <td>2</td>\n",
       "      <td>3</td>\n",
       "      <td>0</td>\n",
       "      <td>0</td>\n",
       "      <td>0</td>\n",
       "      <td>2</td>\n",
       "      <td>3</td>\n",
       "      <td>2</td>\n",
       "      <td>0</td>\n",
       "      <td>1</td>\n",
       "      <td>22.4179</td>\n",
       "    </tr>\n",
       "    <tr>\n",
       "      <th>4</th>\n",
       "      <td>5</td>\n",
       "      <td>4</td>\n",
       "      <td>4</td>\n",
       "      <td>2</td>\n",
       "      <td>2</td>\n",
       "      <td>3</td>\n",
       "      <td>4</td>\n",
       "      <td>1</td>\n",
       "      <td>4</td>\n",
       "      <td>1</td>\n",
       "      <td>1</td>\n",
       "      <td>15.0723</td>\n",
       "    </tr>\n",
       "    <tr>\n",
       "      <th>5</th>\n",
       "      <td>6</td>\n",
       "      <td>9</td>\n",
       "      <td>4</td>\n",
       "      <td>1</td>\n",
       "      <td>4</td>\n",
       "      <td>0</td>\n",
       "      <td>2</td>\n",
       "      <td>2</td>\n",
       "      <td>3</td>\n",
       "      <td>4</td>\n",
       "      <td>1</td>\n",
       "      <td>21.5173</td>\n",
       "    </tr>\n",
       "    <tr>\n",
       "      <th>6</th>\n",
       "      <td>7</td>\n",
       "      <td>1</td>\n",
       "      <td>2</td>\n",
       "      <td>9</td>\n",
       "      <td>3</td>\n",
       "      <td>1</td>\n",
       "      <td>2</td>\n",
       "      <td>2</td>\n",
       "      <td>0</td>\n",
       "      <td>4</td>\n",
       "      <td>0</td>\n",
       "      <td>29.9679</td>\n",
       "    </tr>\n",
       "    <tr>\n",
       "      <th>7</th>\n",
       "      <td>8</td>\n",
       "      <td>1</td>\n",
       "      <td>8</td>\n",
       "      <td>2</td>\n",
       "      <td>3</td>\n",
       "      <td>1</td>\n",
       "      <td>0</td>\n",
       "      <td>4</td>\n",
       "      <td>3</td>\n",
       "      <td>3</td>\n",
       "      <td>0</td>\n",
       "      <td>0.4875</td>\n",
       "    </tr>\n",
       "    <tr>\n",
       "      <th>8</th>\n",
       "      <td>9</td>\n",
       "      <td>0</td>\n",
       "      <td>2</td>\n",
       "      <td>8</td>\n",
       "      <td>0</td>\n",
       "      <td>2</td>\n",
       "      <td>0</td>\n",
       "      <td>1</td>\n",
       "      <td>4</td>\n",
       "      <td>1</td>\n",
       "      <td>1</td>\n",
       "      <td>63.6878</td>\n",
       "    </tr>\n",
       "    <tr>\n",
       "      <th>9</th>\n",
       "      <td>10</td>\n",
       "      <td>8</td>\n",
       "      <td>4</td>\n",
       "      <td>3</td>\n",
       "      <td>4</td>\n",
       "      <td>1</td>\n",
       "      <td>4</td>\n",
       "      <td>1</td>\n",
       "      <td>4</td>\n",
       "      <td>2</td>\n",
       "      <td>1</td>\n",
       "      <td>19.1140</td>\n",
       "    </tr>\n",
       "    <tr>\n",
       "      <th>10</th>\n",
       "      <td>11</td>\n",
       "      <td>0</td>\n",
       "      <td>6</td>\n",
       "      <td>7</td>\n",
       "      <td>4</td>\n",
       "      <td>1</td>\n",
       "      <td>0</td>\n",
       "      <td>2</td>\n",
       "      <td>1</td>\n",
       "      <td>0</td>\n",
       "      <td>0</td>\n",
       "      <td>53.2881</td>\n",
       "    </tr>\n",
       "    <tr>\n",
       "      <th>11</th>\n",
       "      <td>12</td>\n",
       "      <td>6</td>\n",
       "      <td>3</td>\n",
       "      <td>4</td>\n",
       "      <td>4</td>\n",
       "      <td>0</td>\n",
       "      <td>3</td>\n",
       "      <td>0</td>\n",
       "      <td>4</td>\n",
       "      <td>2</td>\n",
       "      <td>1</td>\n",
       "      <td>12.4483</td>\n",
       "    </tr>\n",
       "    <tr>\n",
       "      <th>12</th>\n",
       "      <td>13</td>\n",
       "      <td>0</td>\n",
       "      <td>3</td>\n",
       "      <td>8</td>\n",
       "      <td>1</td>\n",
       "      <td>3</td>\n",
       "      <td>2</td>\n",
       "      <td>0</td>\n",
       "      <td>0</td>\n",
       "      <td>2</td>\n",
       "      <td>1</td>\n",
       "      <td>66.6412</td>\n",
       "    </tr>\n",
       "    <tr>\n",
       "      <th>13</th>\n",
       "      <td>14</td>\n",
       "      <td>5</td>\n",
       "      <td>4</td>\n",
       "      <td>5</td>\n",
       "      <td>0</td>\n",
       "      <td>1</td>\n",
       "      <td>1</td>\n",
       "      <td>4</td>\n",
       "      <td>2</td>\n",
       "      <td>0</td>\n",
       "      <td>0</td>\n",
       "      <td>43.0738</td>\n",
       "    </tr>\n",
       "    <tr>\n",
       "      <th>14</th>\n",
       "      <td>15</td>\n",
       "      <td>6</td>\n",
       "      <td>7</td>\n",
       "      <td>8</td>\n",
       "      <td>4</td>\n",
       "      <td>0</td>\n",
       "      <td>0</td>\n",
       "      <td>0</td>\n",
       "      <td>0</td>\n",
       "      <td>1</td>\n",
       "      <td>0</td>\n",
       "      <td>28.1982</td>\n",
       "    </tr>\n",
       "    <tr>\n",
       "      <th>15</th>\n",
       "      <td>16</td>\n",
       "      <td>3</td>\n",
       "      <td>9</td>\n",
       "      <td>8</td>\n",
       "      <td>3</td>\n",
       "      <td>4</td>\n",
       "      <td>3</td>\n",
       "      <td>4</td>\n",
       "      <td>0</td>\n",
       "      <td>2</td>\n",
       "      <td>0</td>\n",
       "      <td>68.7704</td>\n",
       "    </tr>\n",
       "    <tr>\n",
       "      <th>16</th>\n",
       "      <td>17</td>\n",
       "      <td>3</td>\n",
       "      <td>8</td>\n",
       "      <td>2</td>\n",
       "      <td>0</td>\n",
       "      <td>0</td>\n",
       "      <td>1</td>\n",
       "      <td>4</td>\n",
       "      <td>2</td>\n",
       "      <td>1</td>\n",
       "      <td>1</td>\n",
       "      <td>11.3406</td>\n",
       "    </tr>\n",
       "    <tr>\n",
       "      <th>17</th>\n",
       "      <td>18</td>\n",
       "      <td>9</td>\n",
       "      <td>8</td>\n",
       "      <td>9</td>\n",
       "      <td>1</td>\n",
       "      <td>2</td>\n",
       "      <td>2</td>\n",
       "      <td>3</td>\n",
       "      <td>3</td>\n",
       "      <td>1</td>\n",
       "      <td>1</td>\n",
       "      <td>89.9747</td>\n",
       "    </tr>\n",
       "    <tr>\n",
       "      <th>18</th>\n",
       "      <td>19</td>\n",
       "      <td>5</td>\n",
       "      <td>3</td>\n",
       "      <td>0</td>\n",
       "      <td>3</td>\n",
       "      <td>4</td>\n",
       "      <td>2</td>\n",
       "      <td>2</td>\n",
       "      <td>4</td>\n",
       "      <td>0</td>\n",
       "      <td>0</td>\n",
       "      <td>15.1390</td>\n",
       "    </tr>\n",
       "    <tr>\n",
       "      <th>19</th>\n",
       "      <td>20</td>\n",
       "      <td>5</td>\n",
       "      <td>6</td>\n",
       "      <td>2</td>\n",
       "      <td>4</td>\n",
       "      <td>4</td>\n",
       "      <td>1</td>\n",
       "      <td>0</td>\n",
       "      <td>0</td>\n",
       "      <td>1</td>\n",
       "      <td>0</td>\n",
       "      <td>79.8410</td>\n",
       "    </tr>\n",
       "  </tbody>\n",
       "</table>\n",
       "</div>"
      ],
      "text/plain": [
       "    ID  Cont1  Cont2  Cont3  Ord1  Ord2  Ord3  Nom1  Nom2  Nom3  A        Y\n",
       "0    1      0      1      7     4     2     0     4     3     3  0  31.2112\n",
       "1    2      9      0      3     0     3     3     2     3     3  0  20.8458\n",
       "2    3      2      7      0     1     3     3     4     1     3  0  94.7321\n",
       "3    4      2      3      0     0     0     2     3     2     0  1  22.4179\n",
       "4    5      4      4      2     2     3     4     1     4     1  1  15.0723\n",
       "5    6      9      4      1     4     0     2     2     3     4  1  21.5173\n",
       "6    7      1      2      9     3     1     2     2     0     4  0  29.9679\n",
       "7    8      1      8      2     3     1     0     4     3     3  0   0.4875\n",
       "8    9      0      2      8     0     2     0     1     4     1  1  63.6878\n",
       "9   10      8      4      3     4     1     4     1     4     2  1  19.1140\n",
       "10  11      0      6      7     4     1     0     2     1     0  0  53.2881\n",
       "11  12      6      3      4     4     0     3     0     4     2  1  12.4483\n",
       "12  13      0      3      8     1     3     2     0     0     2  1  66.6412\n",
       "13  14      5      4      5     0     1     1     4     2     0  0  43.0738\n",
       "14  15      6      7      8     4     0     0     0     0     1  0  28.1982\n",
       "15  16      3      9      8     3     4     3     4     0     2  0  68.7704\n",
       "16  17      3      8      2     0     0     1     4     2     1  1  11.3406\n",
       "17  18      9      8      9     1     2     2     3     3     1  1  89.9747\n",
       "18  19      5      3      0     3     4     2     2     4     0  0  15.1390\n",
       "19  20      5      6      2     4     4     1     0     0     1  0  79.8410"
      ]
     },
     "execution_count": 8,
     "metadata": {},
     "output_type": "execute_result"
    }
   ],
   "source": [
    "df = pd.read_csv('TestSample_100_XTable.csv')\n",
    "del df['Unnamed: 0']\n",
    "df.head(n = 20)"
   ]
  },
  {
   "cell_type": "code",
   "execution_count": 9,
   "metadata": {},
   "outputs": [
    {
     "data": {
      "text/plain": [
       "(100, 12)"
      ]
     },
     "execution_count": 9,
     "metadata": {},
     "output_type": "execute_result"
    }
   ],
   "source": [
    "df.shape"
   ]
  },
  {
   "cell_type": "markdown",
   "metadata": {},
   "source": [
    "### Part 1. Search  X0 (continuous variable 1)"
   ]
  },
  {
   "cell_type": "code",
   "execution_count": 10,
   "metadata": {},
   "outputs": [
    {
     "name": "stdout",
     "output_type": "stream",
     "text": [
      "Cut Range for X0: [1, 2, 3, 4, 5, 6, 7, 8, 9, 10]\n",
      "Cut size for X0: 10\n"
     ]
    }
   ],
   "source": [
    "unique_X0 = sorted((df['Cont1']+1).unique())\n",
    "print(\"Cut Range for X0: \"+str(unique_X0))\n",
    "print(\"Cut size for X0: \"+str(len(unique_X0)))"
   ]
  },
  {
   "cell_type": "code",
   "execution_count": 11,
   "metadata": {},
   "outputs": [
    {
     "name": "stdout",
     "output_type": "stream",
     "text": [
      "Choice for X0 <1: 35.63502\n",
      "Choice for X0 >=1: 55.3229314\n",
      "Choice for X0 <2: 38.276296\n",
      "Choice for X0 >=2: 52.6816554\n",
      "Choice for X0 <3: 42.032956\n",
      "Choice for X0 >=3: 48.9249954\n",
      "Choice for X0 <4: 44.094414\n",
      "Choice for X0 >=4: 46.8635374\n",
      "Choice for X0 <5: 40.363062\n",
      "Choice for X0 >=5: 50.5948894\n",
      "Choice for X0 <6: 41.285908\n",
      "Choice for X0 >=6: 49.6720434\n",
      "Choice for X0 <7: 50.0887154\n",
      "Choice for X0 >=7: 40.869236\n",
      "Choice for X0 <8: 52.8049614\n",
      "Choice for X0 >=8: 38.15299\n",
      "Choice for X0 <9: 58.3572554\n",
      "Choice for X0 >=9: 32.600696\n",
      "Choice for X0 <10: 56.8355874\n",
      "Choice for X0 >=10: 34.122364\n"
     ]
    }
   ],
   "source": [
    "for i in unique_X0:\n",
    "    X_Search = df.copy()[['Cont1','A','Y']];\n",
    "    X_Search['D'] = df['Cont1'].apply(lambda x : 1 if x<i else 0)\n",
    "    X_Search['E'] = np.where(X_Search['D']==X_Search['A'], 0, 1)\n",
    "    E_X_Search_L = sum(X_Search['Y']*X_Search['E'])*2/df.shape[0]\n",
    "    E_X_Search_R = sum(X_Search['Y']*(1-X_Search['E']))*2/df.shape[0]\n",
    "    print(\"Choice for X0 <\"+str(i)+\": \" + str(E_X_Search_L))\n",
    "    print(\"Choice for X0 >=\"+str(i)+\": \" + str(E_X_Search_R))"
   ]
  },
  {
   "cell_type": "markdown",
   "metadata": {},
   "source": [
    "### Part 2. Search  X1 (continuous variable 2)"
   ]
  },
  {
   "cell_type": "code",
   "execution_count": 12,
   "metadata": {},
   "outputs": [
    {
     "name": "stdout",
     "output_type": "stream",
     "text": [
      "Cut Range for X1: [1, 2, 3, 4, 5, 6, 7, 8, 9, 10]\n",
      "Cut size for X1: 10\n"
     ]
    }
   ],
   "source": [
    "unique_X1 = sorted((df['Cont2']+1).unique())\n",
    "print(\"Cut Range for X1: \"+str(unique_X1))\n",
    "print(\"Cut size for X1: \"+str(len(unique_X1)))"
   ]
  },
  {
   "cell_type": "code",
   "execution_count": 13,
   "metadata": {},
   "outputs": [
    {
     "name": "stdout",
     "output_type": "stream",
     "text": [
      "Choice for X1 <1: 32.206456\n",
      "Choice for X1 >=1: 58.7514954\n",
      "Choice for X1 <2: 31.895356\n",
      "Choice for X1 >=2: 59.0625954\n",
      "Choice for X1 <3: 33.25742\n",
      "Choice for X1 >=3: 57.7005314\n",
      "Choice for X1 <4: 30.3150994\n",
      "Choice for X1 >=4: 60.642852\n",
      "Choice for X1 <5: 29.6733734\n",
      "Choice for X1 >=5: 61.284578\n",
      "Choice for X1 <6: 35.9514454\n",
      "Choice for X1 >=6: 55.006506\n",
      "Choice for X1 <7: 43.8065354\n",
      "Choice for X1 >=7: 47.151416\n",
      "Choice for X1 <8: 50.0044154\n",
      "Choice for X1 >=8: 40.953536\n",
      "Choice for X1 <9: 54.4178954\n",
      "Choice for X1 >=9: 36.540056\n",
      "Choice for X1 <10: 56.8355874\n",
      "Choice for X1 >=10: 34.122364\n"
     ]
    }
   ],
   "source": [
    "for i in unique_X1:\n",
    "    X_Search = df.copy()[['Cont2','A','Y']];\n",
    "    X_Search['D'] = df['Cont2'].apply(lambda x : 1 if x<i else 0)\n",
    "    X_Search['E'] = np.where(X_Search['D']==X_Search['A'], 0, 1)\n",
    "    E_X_Search_L = sum(X_Search['Y']*X_Search['E'])*2/df.shape[0]\n",
    "    E_X_Search_R = sum(X_Search['Y']*(1-X_Search['E']))*2/df.shape[0]\n",
    "    print(\"Choice for X1 <\"+str(i)+\": \" + str(E_X_Search_L))\n",
    "    print(\"Choice for X1 >=\"+str(i)+\": \" + str(E_X_Search_R))"
   ]
  },
  {
   "cell_type": "markdown",
   "metadata": {},
   "source": [
    "### Part 3. Search  X2 (continuous variable 3)"
   ]
  },
  {
   "cell_type": "code",
   "execution_count": 14,
   "metadata": {},
   "outputs": [
    {
     "name": "stdout",
     "output_type": "stream",
     "text": [
      "Cut Range for X2: [1, 2, 3, 4, 5, 6, 7, 8, 9, 10]\n",
      "Cut size for X2: 10\n"
     ]
    }
   ],
   "source": [
    "unique_X2 = sorted((df['Cont3']+1).unique())\n",
    "print(\"Cut Range for X2: \"+str(unique_X2))\n",
    "print(\"Cut size for X2: \"+str(len(unique_X2)))"
   ]
  },
  {
   "cell_type": "code",
   "execution_count": 15,
   "metadata": {},
   "outputs": [
    {
     "name": "stdout",
     "output_type": "stream",
     "text": [
      "Choice for X2 <1: 38.930102\n",
      "Choice for X2 >=1: 52.0278494\n",
      "Choice for X2 <2: 45.110042\n",
      "Choice for X2 >=2: 45.8479094\n",
      "Choice for X2 <3: 43.9285394\n",
      "Choice for X2 >=3: 47.029412\n",
      "Choice for X2 <4: 45.5578814\n",
      "Choice for X2 >=4: 45.40007\n",
      "Choice for X2 <5: 41.4163094\n",
      "Choice for X2 >=5: 49.541642\n",
      "Choice for X2 <6: 41.7051834\n",
      "Choice for X2 >=6: 49.252768\n",
      "Choice for X2 <7: 48.2001334\n",
      "Choice for X2 >=7: 42.757818\n",
      "Choice for X2 <8: 52.7313874\n",
      "Choice for X2 >=8: 38.226564\n",
      "Choice for X2 <9: 54.2355754\n",
      "Choice for X2 >=9: 36.722376\n",
      "Choice for X2 <10: 56.8355874\n",
      "Choice for X2 >=10: 34.122364\n"
     ]
    }
   ],
   "source": [
    "for i in unique_X2:\n",
    "    X_Search = df.copy()[['Cont3','A','Y']];\n",
    "    X_Search['D'] = df['Cont3'].apply(lambda x : 1 if x<i else 0)\n",
    "    X_Search['E'] = np.where(X_Search['D']==X_Search['A'], 0, 1)\n",
    "    E_X_Search_L = sum(X_Search['Y']*X_Search['E'])*2/df.shape[0]\n",
    "    E_X_Search_R = sum(X_Search['Y']*(1-X_Search['E']))*2/df.shape[0]\n",
    "    print(\"Choice for X2 <\"+str(i)+\": \" + str(E_X_Search_L))\n",
    "    print(\"Choice for X2 >=\"+str(i)+\": \" + str(E_X_Search_R))"
   ]
  },
  {
   "cell_type": "markdown",
   "metadata": {},
   "source": [
    "### Part 4. Search  X3 (ordinal variable 1)"
   ]
  },
  {
   "cell_type": "code",
   "execution_count": 16,
   "metadata": {},
   "outputs": [
    {
     "name": "stdout",
     "output_type": "stream",
     "text": [
      "Cut Range for X3: [1, 2, 3, 4, 5]\n",
      "Cut size for X3: 5\n"
     ]
    }
   ],
   "source": [
    "unique_X3 = sorted((df['Ord1']+1).unique())\n",
    "print(\"Cut Range for X3: \"+str(unique_X3))\n",
    "print(\"Cut size for X3: \"+str(len(unique_X3)))"
   ]
  },
  {
   "cell_type": "code",
   "execution_count": 17,
   "metadata": {},
   "outputs": [
    {
     "name": "stdout",
     "output_type": "stream",
     "text": [
      "Choice for X3 <1: 37.333322\n",
      "Choice for X3 >=1: 53.6246294\n",
      "Choice for X3 <2: 38.399154\n",
      "Choice for X3 >=2: 52.5587974\n",
      "Choice for X3 <3: 42.342138\n",
      "Choice for X3 >=3: 48.6158134\n",
      "Choice for X3 <4: 50.0971654\n",
      "Choice for X3 >=4: 40.860786\n",
      "Choice for X3 <5: 56.8355874\n",
      "Choice for X3 >=5: 34.122364\n"
     ]
    }
   ],
   "source": [
    "for i in unique_X3:\n",
    "    X_Search = df.copy()[['Ord1','A','Y']];\n",
    "    X_Search['D'] = df['Ord1'].apply(lambda x : 1 if x<i else 0)\n",
    "    X_Search['E'] = np.where(X_Search['D']==X_Search['A'], 0, 1)\n",
    "    E_X_Search_L = sum(X_Search['Y']*X_Search['E'])*2/df.shape[0]\n",
    "    E_X_Search_R = sum(X_Search['Y']*(1-X_Search['E']))*2/df.shape[0]\n",
    "    print(\"Choice for X3 <\"+str(i)+\": \" + str(E_X_Search_L))\n",
    "    print(\"Choice for X3 >=\"+str(i)+\": \" + str(E_X_Search_R))"
   ]
  },
  {
   "cell_type": "markdown",
   "metadata": {},
   "source": [
    "### Part 5. Search  X4 (ordinal variable 2)"
   ]
  },
  {
   "cell_type": "code",
   "execution_count": 18,
   "metadata": {},
   "outputs": [
    {
     "name": "stdout",
     "output_type": "stream",
     "text": [
      "Cut Range for X4: [1, 2, 3, 4, 5]\n",
      "Cut size for X4: 5\n"
     ]
    }
   ],
   "source": [
    "unique_X4 = sorted((df['Ord2']+1).unique())\n",
    "print(\"Cut Range for X4: \"+str(unique_X4))\n",
    "print(\"Cut size for X4: \"+str(len(unique_X4)))"
   ]
  },
  {
   "cell_type": "code",
   "execution_count": 19,
   "metadata": {},
   "outputs": [
    {
     "name": "stdout",
     "output_type": "stream",
     "text": [
      "Choice for X4 <1: 37.345148\n",
      "Choice for X4 >=1: 53.6128034\n",
      "Choice for X4 <2: 41.801006\n",
      "Choice for X4 >=2: 49.1569454\n",
      "Choice for X4 <3: 48.1087234\n",
      "Choice for X4 >=3: 42.849228\n",
      "Choice for X4 <4: 55.9730514\n",
      "Choice for X4 >=4: 34.9849\n",
      "Choice for X4 <5: 56.8355874\n",
      "Choice for X4 >=5: 34.122364\n"
     ]
    }
   ],
   "source": [
    "for i in unique_X4:\n",
    "    X_Search = df.copy()[['Ord2','A','Y']];\n",
    "    X_Search['D'] = df['Ord2'].apply(lambda x : 1 if x<i else 0)\n",
    "    X_Search['E'] = np.where(X_Search['D']==X_Search['A'], 0, 1)\n",
    "    E_X_Search_L = sum(X_Search['Y']*X_Search['E'])*2/df.shape[0]\n",
    "    E_X_Search_R = sum(X_Search['Y']*(1-X_Search['E']))*2/df.shape[0]\n",
    "    print(\"Choice for X4 <\"+str(i)+\": \" + str(E_X_Search_L))\n",
    "    print(\"Choice for X4 >=\"+str(i)+\": \" + str(E_X_Search_R))"
   ]
  },
  {
   "cell_type": "markdown",
   "metadata": {},
   "source": [
    "### Part 6. Search  X5 (ordinal variable 3)"
   ]
  },
  {
   "cell_type": "code",
   "execution_count": 20,
   "metadata": {},
   "outputs": [
    {
     "name": "stdout",
     "output_type": "stream",
     "text": [
      "Cut Range for X5: [1, 2, 3, 4, 5]\n",
      "Cut size for X5: 5\n"
     ]
    }
   ],
   "source": [
    "unique_X5 = sorted((df['Ord3']+1).unique())\n",
    "print(\"Cut Range for X5: \"+str(unique_X5))\n",
    "print(\"Cut size for X5: \"+str(len(unique_X5)))"
   ]
  },
  {
   "cell_type": "code",
   "execution_count": 21,
   "metadata": {},
   "outputs": [
    {
     "name": "stdout",
     "output_type": "stream",
     "text": [
      "Choice for X5 <1: 32.921272\n",
      "Choice for X5 >=1: 58.0366794\n",
      "Choice for X5 <2: 44.071096\n",
      "Choice for X5 >=2: 46.8868554\n",
      "Choice for X5 <3: 43.673372\n",
      "Choice for X5 >=3: 47.2845794\n",
      "Choice for X5 <4: 49.4834134\n",
      "Choice for X5 >=4: 41.474538\n",
      "Choice for X5 <5: 56.8355874\n",
      "Choice for X5 >=5: 34.122364\n"
     ]
    }
   ],
   "source": [
    "for i in unique_X5:\n",
    "    X_Search = df.copy()[['Ord3','A','Y']];\n",
    "    X_Search['D'] = df['Ord3'].apply(lambda x : 1 if x<i else 0)\n",
    "    X_Search['E'] = np.where(X_Search['D']==X_Search['A'], 0, 1)\n",
    "    E_X_Search_L = sum(X_Search['Y']*X_Search['E'])*2/df.shape[0]\n",
    "    E_X_Search_R = sum(X_Search['Y']*(1-X_Search['E']))*2/df.shape[0]\n",
    "    print(\"Choice for X5 <\"+str(i)+\": \" + str(E_X_Search_L))\n",
    "    print(\"Choice for X5 >=\"+str(i)+\": \" + str(E_X_Search_R))"
   ]
  },
  {
   "cell_type": "markdown",
   "metadata": {},
   "source": [
    "### Part 7. Search  X6 (nominal variable 1)"
   ]
  },
  {
   "cell_type": "code",
   "execution_count": 22,
   "metadata": {},
   "outputs": [
    {
     "name": "stdout",
     "output_type": "stream",
     "text": [
      "Cut Range for X6: [0, 1, 2, 3, 4, 5, 6, 7, 8, 9, 10, 11, 12, 13, 14, 15]\n",
      "Cut Size for X6: 16\n"
     ]
    },
    {
     "data": {
      "text/plain": [
       "[[],\n",
       " [0],\n",
       " [1],\n",
       " [0, 1],\n",
       " [2],\n",
       " [0, 2],\n",
       " [1, 2],\n",
       " [3],\n",
       " [0, 3],\n",
       " [1, 3],\n",
       " [2, 3],\n",
       " [4],\n",
       " [0, 4],\n",
       " [1, 4],\n",
       " [2, 4],\n",
       " [3, 4]]"
      ]
     },
     "execution_count": 22,
     "metadata": {},
     "output_type": "execute_result"
    }
   ],
   "source": [
    "unique_X6 = sorted(df['Nom1'].unique())\n",
    "sets_X6 = halfsubsets(unique_X6)\n",
    "print(\"Cut Range for X6: \"+str(list(range(len(sets_X6)))))\n",
    "print(\"Cut Size for X6: \"+str(len(sets_X6)))\n",
    "sets_X6"
   ]
  },
  {
   "cell_type": "code",
   "execution_count": 23,
   "metadata": {},
   "outputs": [
    {
     "name": "stdout",
     "output_type": "stream",
     "text": [
      "Choice for X6 in set 0: 34.122364\n",
      "Choice for X6 not in set 0: 56.8355874\n",
      "Choice for X6 in set 1: 41.138344\n",
      "Choice for X6 not in set 1: 49.8196074\n",
      "Choice for X6 in set 2: 30.694016\n",
      "Choice for X6 not in set 2: 60.2639354\n",
      "Choice for X6 in set 3: 37.709996\n",
      "Choice for X6 not in set 3: 53.2479554\n",
      "Choice for X6 in set 4: 44.1934794\n",
      "Choice for X6 not in set 4: 46.764472\n",
      "Choice for X6 in set 5: 51.2094594\n",
      "Choice for X6 not in set 5: 39.748492\n",
      "Choice for X6 in set 6: 40.7651314\n",
      "Choice for X6 not in set 6: 50.19282\n",
      "Choice for X6 in set 7: 39.606242\n",
      "Choice for X6 not in set 7: 51.3517094\n",
      "Choice for X6 in set 8: 46.622222\n",
      "Choice for X6 not in set 8: 44.3357294\n",
      "Choice for X6 in set 9: 36.177894\n",
      "Choice for X6 not in set 9: 54.7800574\n",
      "Choice for X6 in set 10: 49.6773574\n",
      "Choice for X6 not in set 10: 41.280594\n",
      "Choice for X6 in set 11: 37.692962\n",
      "Choice for X6 not in set 11: 53.2649894\n",
      "Choice for X6 in set 12: 44.708942\n",
      "Choice for X6 not in set 12: 46.2490094\n",
      "Choice for X6 in set 13: 34.264614\n",
      "Choice for X6 not in set 13: 56.6933374\n",
      "Choice for X6 in set 14: 47.7640774\n",
      "Choice for X6 not in set 14: 43.193874\n",
      "Choice for X6 in set 15: 43.17684\n",
      "Choice for X6 not in set 15: 47.7811114\n"
     ]
    }
   ],
   "source": [
    "for i in range(len(sets_X6)):\n",
    "    X_Search = df.copy()[['Nom1','A','Y']];\n",
    "    X_Search['D'] = df['Nom1'].apply(lambda x : 1 if x in sets_X6[i] else 0)\n",
    "    X_Search['E'] = np.where(X_Search['D']==X_Search['A'], 0, 1)\n",
    "    E_X_Search_L = sum(X_Search['Y']*X_Search['E'])*2/df.shape[0]\n",
    "    E_X_Search_R = sum(X_Search['Y']*(1-X_Search['E']))*2/df.shape[0]\n",
    "    print(\"Choice for X6 in set \"+str(i)+\": \" + str(E_X_Search_L))\n",
    "    print(\"Choice for X6 not in set \"+str(i)+\": \" + str(E_X_Search_R))"
   ]
  },
  {
   "cell_type": "markdown",
   "metadata": {},
   "source": [
    "### Part 8. Search  X7 (nominal variable 2)"
   ]
  },
  {
   "cell_type": "code",
   "execution_count": 24,
   "metadata": {},
   "outputs": [
    {
     "name": "stdout",
     "output_type": "stream",
     "text": [
      "Cut Range for X7: [0, 1, 2, 3, 4, 5, 6, 7, 8, 9, 10, 11, 12, 13, 14, 15]\n",
      "Cut Size for X7: 16\n"
     ]
    },
    {
     "data": {
      "text/plain": [
       "[[],\n",
       " [0],\n",
       " [1],\n",
       " [0, 1],\n",
       " [2],\n",
       " [0, 2],\n",
       " [1, 2],\n",
       " [3],\n",
       " [0, 3],\n",
       " [1, 3],\n",
       " [2, 3],\n",
       " [4],\n",
       " [0, 4],\n",
       " [1, 4],\n",
       " [2, 4],\n",
       " [3, 4]]"
      ]
     },
     "execution_count": 24,
     "metadata": {},
     "output_type": "execute_result"
    }
   ],
   "source": [
    "unique_X7 = sorted(df['Nom2'].unique())\n",
    "sets_X7 = halfsubsets(unique_X7)\n",
    "print(\"Cut Range for X7: \"+str(list(range(len(sets_X7)))))\n",
    "print(\"Cut Size for X7: \"+str(len(sets_X7)))\n",
    "sets_X7"
   ]
  },
  {
   "cell_type": "code",
   "execution_count": 25,
   "metadata": {},
   "outputs": [
    {
     "name": "stdout",
     "output_type": "stream",
     "text": [
      "Choice for X7 in set 0: 34.122364\n",
      "Choice for X7 not in set 0: 56.8355874\n",
      "Choice for X7 in set 1: 40.317024\n",
      "Choice for X7 not in set 1: 50.6409274\n",
      "Choice for X7 in set 2: 42.438954\n",
      "Choice for X7 not in set 2: 48.5189974\n",
      "Choice for X7 in set 3: 48.633614\n",
      "Choice for X7 not in set 3: 42.3243374\n",
      "Choice for X7 in set 4: 39.744408\n",
      "Choice for X7 not in set 4: 51.2135434\n",
      "Choice for X7 in set 5: 45.939068\n",
      "Choice for X7 not in set 5: 45.0188834\n",
      "Choice for X7 in set 6: 48.060998\n",
      "Choice for X7 not in set 6: 42.8969534\n",
      "Choice for X7 in set 7: 38.6230474\n",
      "Choice for X7 not in set 7: 52.334904\n",
      "Choice for X7 in set 8: 44.8177074\n",
      "Choice for X7 not in set 8: 46.140244\n",
      "Choice for X7 in set 9: 46.9396374\n",
      "Choice for X7 not in set 9: 44.018314\n",
      "Choice for X7 in set 10: 44.2450914\n",
      "Choice for X7 not in set 10: 46.71286\n",
      "Choice for X7 in set 11: 32.20161\n",
      "Choice for X7 not in set 11: 58.7563414\n",
      "Choice for X7 in set 12: 38.39627\n",
      "Choice for X7 not in set 12: 52.5616814\n",
      "Choice for X7 in set 13: 40.5182\n",
      "Choice for X7 not in set 13: 50.4397514\n",
      "Choice for X7 in set 14: 37.823654\n",
      "Choice for X7 not in set 14: 53.1342974\n",
      "Choice for X7 in set 15: 36.7022934\n",
      "Choice for X7 not in set 15: 54.255658\n"
     ]
    }
   ],
   "source": [
    "for i in range(len(sets_X7)):\n",
    "    X_Search = df.copy()[['Nom2','A','Y']];\n",
    "    X_Search['D'] = df['Nom2'].apply(lambda x : 1 if x in sets_X7[i] else 0)\n",
    "    X_Search['E'] = np.where(X_Search['D']==X_Search['A'], 0, 1)\n",
    "    E_X_Search_L = sum(X_Search['Y']*X_Search['E'])*2/df.shape[0]\n",
    "    E_X_Search_R = sum(X_Search['Y']*(1-X_Search['E']))*2/df.shape[0]\n",
    "    print(\"Choice for X7 in set \"+str(i)+\": \" + str(E_X_Search_L))\n",
    "    print(\"Choice for X7 not in set \"+str(i)+\": \" + str(E_X_Search_R))"
   ]
  },
  {
   "cell_type": "markdown",
   "metadata": {},
   "source": [
    "### Part 9. Search  X8 (nominal variable 3)"
   ]
  },
  {
   "cell_type": "code",
   "execution_count": 26,
   "metadata": {},
   "outputs": [
    {
     "name": "stdout",
     "output_type": "stream",
     "text": [
      "Cut Range for X8: [0, 1, 2, 3, 4, 5, 6, 7, 8, 9, 10, 11, 12, 13, 14, 15]\n",
      "Cut Size for X8: 16\n"
     ]
    },
    {
     "data": {
      "text/plain": [
       "[[],\n",
       " [0],\n",
       " [1],\n",
       " [0, 1],\n",
       " [2],\n",
       " [0, 2],\n",
       " [1, 2],\n",
       " [3],\n",
       " [0, 3],\n",
       " [1, 3],\n",
       " [2, 3],\n",
       " [4],\n",
       " [0, 4],\n",
       " [1, 4],\n",
       " [2, 4],\n",
       " [3, 4]]"
      ]
     },
     "execution_count": 26,
     "metadata": {},
     "output_type": "execute_result"
    }
   ],
   "source": [
    "unique_X8 = sorted(df['Nom3'].unique())\n",
    "sets_X8 = halfsubsets(unique_X8)\n",
    "print(\"Cut Range for X8: \"+str(list(range(len(sets_X8)))))\n",
    "print(\"Cut Size for X8: \"+str(len(sets_X8)))\n",
    "sets_X8"
   ]
  },
  {
   "cell_type": "code",
   "execution_count": 27,
   "metadata": {},
   "outputs": [
    {
     "name": "stdout",
     "output_type": "stream",
     "text": [
      "Choice for X8 in set 0: 34.122364\n",
      "Choice for X8 not in set 0: 56.8355874\n",
      "Choice for X8 in set 1: 40.000362\n",
      "Choice for X8 not in set 1: 50.9575894\n",
      "Choice for X8 in set 2: 32.27922\n",
      "Choice for X8 not in set 2: 58.6787314\n",
      "Choice for X8 in set 3: 38.157218\n",
      "Choice for X8 not in set 3: 52.8007334\n",
      "Choice for X8 in set 4: 43.8414114\n",
      "Choice for X8 not in set 4: 47.11654\n",
      "Choice for X8 in set 5: 49.7194094\n",
      "Choice for X8 not in set 5: 41.238542\n",
      "Choice for X8 in set 6: 41.9982674\n",
      "Choice for X8 not in set 6: 48.959684\n",
      "Choice for X8 in set 7: 38.414678\n",
      "Choice for X8 not in set 7: 52.5432734\n",
      "Choice for X8 in set 8: 44.292676\n",
      "Choice for X8 not in set 8: 46.6652754\n",
      "Choice for X8 in set 9: 36.571534\n",
      "Choice for X8 not in set 9: 54.3864174\n",
      "Choice for X8 in set 10: 48.1337254\n",
      "Choice for X8 not in set 10: 42.824226\n",
      "Choice for X8 in set 11: 38.789372\n",
      "Choice for X8 not in set 11: 52.1685794\n",
      "Choice for X8 in set 12: 44.66737\n",
      "Choice for X8 not in set 12: 46.2905814\n",
      "Choice for X8 in set 13: 36.946228\n",
      "Choice for X8 not in set 13: 54.0117234\n",
      "Choice for X8 in set 14: 48.5084194\n",
      "Choice for X8 not in set 14: 42.449532\n",
      "Choice for X8 in set 15: 43.081686\n",
      "Choice for X8 not in set 15: 47.8762654\n"
     ]
    }
   ],
   "source": [
    "for i in range(len(sets_X8)):\n",
    "    X_Search = df.copy()[['Nom3','A','Y']];\n",
    "    X_Search['D'] = df['Nom3'].apply(lambda x : 1 if x in sets_X8[i] else 0)\n",
    "    X_Search['E'] = np.where(X_Search['D']==X_Search['A'], 0, 1)\n",
    "    E_X_Search_L = sum(X_Search['Y']*X_Search['E'])*2/df.shape[0]\n",
    "    E_X_Search_R = sum(X_Search['Y']*(1-X_Search['E']))*2/df.shape[0]\n",
    "    print(\"Choice for X8 in set \"+str(i)+\": \" + str(E_X_Search_L))\n",
    "    print(\"Choice for X8 not in set \"+str(i)+\": \" + str(E_X_Search_R))"
   ]
  }
 ],
 "metadata": {
  "kernelspec": {
   "display_name": "Python 3",
   "language": "python",
   "name": "python3"
  },
  "language_info": {
   "codemirror_mode": {
    "name": "ipython",
    "version": 3
   },
   "file_extension": ".py",
   "mimetype": "text/x-python",
   "name": "python",
   "nbconvert_exporter": "python",
   "pygments_lexer": "ipython3",
   "version": "3.6.3"
  }
 },
 "nbformat": 4,
 "nbformat_minor": 2
}
