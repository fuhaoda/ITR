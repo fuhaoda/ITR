{
 "cells": [
  {
   "cell_type": "code",
   "execution_count": 1,
   "metadata": {
    "collapsed": true
   },
   "outputs": [],
   "source": [
    "import pandas as pd\n",
    "import numpy as np\n",
    "import math\n",
    "import operator\n",
    "from itertools import combinations"
   ]
  },
  {
   "cell_type": "code",
   "execution_count": 2,
   "metadata": {
    "collapsed": true
   },
   "outputs": [],
   "source": [
    "def subsets(s):\n",
    "    sets = []\n",
    "    for i in range(1 << len(s)):\n",
    "        subset = [s[bit] for bit in range(len(s)) if is_bit_set(i, bit)]\n",
    "        sets.append(subset)\n",
    "    return sets\n",
    "\n",
    "def halfsubsets(s):\n",
    "    sets = []\n",
    "    for i in range(1 << len(s)):\n",
    "        subset = [s[bit] for bit in range(len(s)) if is_bit_set(i, bit)]\n",
    "        if(len(subset) <= len(s)/2):\n",
    "            sets.append(subset)\n",
    "    return sets\n",
    "\n",
    "def is_bit_set(num, bit):\n",
    "    return num & (1 << bit) > 0"
   ]
  },
  {
   "cell_type": "markdown",
   "metadata": {},
   "source": [
    "# Load CSV Data"
   ]
  },
  {
   "cell_type": "code",
   "execution_count": 3,
   "metadata": {},
   "outputs": [],
   "source": [
    "df = pd.read_csv('TestSample_100_XTable.csv')\n",
    "del df['Unnamed: 0']"
   ]
  },
  {
   "cell_type": "markdown",
   "metadata": {},
   "source": [
    "## Step 1. Create cut info¶"
   ]
  },
  {
   "cell_type": "code",
   "execution_count": 4,
   "metadata": {},
   "outputs": [],
   "source": [
    "unique_X0 = sorted((df['Cont1']+1).unique())\n",
    "unique_X1 = sorted((df['Cont2']+1).unique())\n",
    "unique_X2 = sorted((df['Cont3']+1).unique())\n",
    "unique_X3 = sorted((df['Ord1']+1).unique())\n",
    "unique_X4 = sorted((df['Ord2']+1).unique())\n",
    "unique_X5 = sorted((df['Ord3']+1).unique())\n",
    "unique_X6 = sorted(df['Nom1'].unique())\n",
    "sets_X6 = halfsubsets(unique_X6)\n",
    "unique_X7 = sorted(df['Nom2'].unique())\n",
    "sets_X7 = halfsubsets(unique_X7)\n",
    "unique_X8 = sorted(df['Nom3'].unique())\n",
    "sets_X8 = halfsubsets(unique_X8)"
   ]
  },
  {
   "cell_type": "code",
   "execution_count": 5,
   "metadata": {},
   "outputs": [
    {
     "data": {
      "text/plain": [
       "93"
      ]
     },
     "execution_count": 5,
     "metadata": {},
     "output_type": "execute_result"
    }
   ],
   "source": [
    "var_dict = {0:10,1:10,2:10,3:5,4:5,5:5,6:16,7:16,8:16}\n",
    "var = [0,1,2,3,4,5,6,7,8]\n",
    "var_comb = list(combinations(var,1))\n",
    "var_info = pd.DataFrame(var_comb)\n",
    "var_info.columns = ['var i']\n",
    "var_info['N'] = var_info['var i'].map(var_dict) \n",
    "var_info['N'].sum(axis = 0)"
   ]
  },
  {
   "cell_type": "code",
   "execution_count": 6,
   "metadata": {},
   "outputs": [
    {
     "data": {
      "text/html": [
       "<div>\n",
       "<style>\n",
       "    .dataframe thead tr:only-child th {\n",
       "        text-align: right;\n",
       "    }\n",
       "\n",
       "    .dataframe thead th {\n",
       "        text-align: left;\n",
       "    }\n",
       "\n",
       "    .dataframe tbody tr th {\n",
       "        vertical-align: top;\n",
       "    }\n",
       "</style>\n",
       "<table border=\"1\" class=\"dataframe\">\n",
       "  <thead>\n",
       "    <tr style=\"text-align: right;\">\n",
       "      <th></th>\n",
       "      <th>var i</th>\n",
       "      <th>N</th>\n",
       "      <th>cum_N</th>\n",
       "    </tr>\n",
       "  </thead>\n",
       "  <tbody>\n",
       "    <tr>\n",
       "      <th>0</th>\n",
       "      <td>0</td>\n",
       "      <td>10</td>\n",
       "      <td>10</td>\n",
       "    </tr>\n",
       "    <tr>\n",
       "      <th>1</th>\n",
       "      <td>1</td>\n",
       "      <td>10</td>\n",
       "      <td>20</td>\n",
       "    </tr>\n",
       "    <tr>\n",
       "      <th>2</th>\n",
       "      <td>2</td>\n",
       "      <td>10</td>\n",
       "      <td>30</td>\n",
       "    </tr>\n",
       "    <tr>\n",
       "      <th>3</th>\n",
       "      <td>3</td>\n",
       "      <td>5</td>\n",
       "      <td>35</td>\n",
       "    </tr>\n",
       "    <tr>\n",
       "      <th>4</th>\n",
       "      <td>4</td>\n",
       "      <td>5</td>\n",
       "      <td>40</td>\n",
       "    </tr>\n",
       "    <tr>\n",
       "      <th>5</th>\n",
       "      <td>5</td>\n",
       "      <td>5</td>\n",
       "      <td>45</td>\n",
       "    </tr>\n",
       "    <tr>\n",
       "      <th>6</th>\n",
       "      <td>6</td>\n",
       "      <td>16</td>\n",
       "      <td>61</td>\n",
       "    </tr>\n",
       "    <tr>\n",
       "      <th>7</th>\n",
       "      <td>7</td>\n",
       "      <td>16</td>\n",
       "      <td>77</td>\n",
       "    </tr>\n",
       "    <tr>\n",
       "      <th>8</th>\n",
       "      <td>8</td>\n",
       "      <td>16</td>\n",
       "      <td>93</td>\n",
       "    </tr>\n",
       "  </tbody>\n",
       "</table>\n",
       "</div>"
      ],
      "text/plain": [
       "   var i   N  cum_N\n",
       "0      0  10     10\n",
       "1      1  10     20\n",
       "2      2  10     30\n",
       "3      3   5     35\n",
       "4      4   5     40\n",
       "5      5   5     45\n",
       "6      6  16     61\n",
       "7      7  16     77\n",
       "8      8  16     93"
      ]
     },
     "execution_count": 6,
     "metadata": {},
     "output_type": "execute_result"
    }
   ],
   "source": [
    "var_info['cum_N'] = var_info['N'].cumsum()\n",
    "var_info"
   ]
  },
  {
   "cell_type": "markdown",
   "metadata": {},
   "source": [
    "## Step 2. Search"
   ]
  },
  {
   "cell_type": "markdown",
   "metadata": {},
   "source": [
    "### Case 1. var 0 (Cont 1)"
   ]
  },
  {
   "cell_type": "code",
   "execution_count": 7,
   "metadata": {},
   "outputs": [
    {
     "name": "stdout",
     "output_type": "stream",
     "text": [
      "0 \tChoice for X0 <1: 35.63502\n",
      "1 \tChoice for X0 >=1: 55.3229314\n",
      "2 \tChoice for X0 <2: 38.276296\n",
      "3 \tChoice for X0 >=2: 52.6816554\n",
      "4 \tChoice for X0 <3: 42.032956\n",
      "5 \tChoice for X0 >=3: 48.9249954\n",
      "6 \tChoice for X0 <4: 44.094414\n",
      "7 \tChoice for X0 >=4: 46.8635374\n",
      "8 \tChoice for X0 <5: 40.363062\n",
      "9 \tChoice for X0 >=5: 50.5948894\n",
      "10 \tChoice for X0 <6: 41.285908\n",
      "11 \tChoice for X0 >=6: 49.6720434\n",
      "12 \tChoice for X0 <7: 50.0887154\n",
      "13 \tChoice for X0 >=7: 40.869236\n",
      "14 \tChoice for X0 <8: 52.8049614\n",
      "15 \tChoice for X0 >=8: 38.15299\n",
      "16 \tChoice for X0 <9: 58.3572554\n",
      "17 \tChoice for X0 >=9: 32.600696\n",
      "18 \tChoice for X0 <10: 56.8355874\n",
      "19 \tChoice for X0 >=10: 34.122364\n"
     ]
    }
   ],
   "source": [
    "Results = []\n",
    "k = 0\n",
    "for i in unique_X0:\n",
    "    X_Search = df.copy()[['Cont1','A','Y']];\n",
    "    X_Search['D'] = df['Cont1'].apply(lambda x : 1 if x<i else 0)\n",
    "    X_Search['E'] = np.where(X_Search['D']==X_Search['A'], 0, 1)\n",
    "    E_X_Search_L = sum(X_Search['Y']*X_Search['E'])*2/df.shape[0]\n",
    "    E_X_Search_R = sum(X_Search['Y']*(1-X_Search['E']))*2/df.shape[0]\n",
    "    print(str(k)+\" \\tChoice for X0 <\"+str(i)+\": \" + str(E_X_Search_L))\n",
    "    k = k+1\n",
    "    print(str(k)+\" \\tChoice for X0 >=\"+str(i)+\": \" + str(E_X_Search_R))\n",
    "    k = k+1\n",
    "    Results.append(E_X_Search_L) \n",
    "    Results.append(E_X_Search_R) "
   ]
  },
  {
   "cell_type": "code",
   "execution_count": 8,
   "metadata": {},
   "outputs": [
    {
     "name": "stdout",
     "output_type": "stream",
     "text": [
      "index: 16\n",
      "max: 58.3572554\n"
     ]
    }
   ],
   "source": [
    "index, value = max(enumerate(Results), key=operator.itemgetter(1))\n",
    "print(\"index: \"+str(index))\n",
    "print(\"max: \"+str(value))"
   ]
  },
  {
   "cell_type": "markdown",
   "metadata": {},
   "source": [
    "### Case 2. var1 (Cont 2)"
   ]
  },
  {
   "cell_type": "code",
   "execution_count": 9,
   "metadata": {},
   "outputs": [
    {
     "name": "stdout",
     "output_type": "stream",
     "text": [
      "0 \tChoice for X1 <1: 32.206456\n",
      "1 \tChoice for X1 >=1: 58.7514954\n",
      "2 \tChoice for X1 <2: 31.895356\n",
      "3 \tChoice for X1 >=2: 59.0625954\n",
      "4 \tChoice for X1 <3: 33.25742\n",
      "5 \tChoice for X1 >=3: 57.7005314\n",
      "6 \tChoice for X1 <4: 30.3150994\n",
      "7 \tChoice for X1 >=4: 60.642852\n",
      "8 \tChoice for X1 <5: 29.6733734\n",
      "9 \tChoice for X1 >=5: 61.284578\n",
      "10 \tChoice for X1 <6: 35.9514454\n",
      "11 \tChoice for X1 >=6: 55.006506\n",
      "12 \tChoice for X1 <7: 43.8065354\n",
      "13 \tChoice for X1 >=7: 47.151416\n",
      "14 \tChoice for X1 <8: 50.0044154\n",
      "15 \tChoice for X1 >=8: 40.953536\n",
      "16 \tChoice for X1 <9: 54.4178954\n",
      "17 \tChoice for X1 >=9: 36.540056\n",
      "18 \tChoice for X1 <10: 56.8355874\n",
      "19 \tChoice for X1 >=10: 34.122364\n"
     ]
    }
   ],
   "source": [
    "Results = []\n",
    "k = 0\n",
    "for i in unique_X1:\n",
    "    X_Search = df.copy()[['Cont2','A','Y']];\n",
    "    X_Search['D'] = df['Cont2'].apply(lambda x : 1 if x<i else 0)\n",
    "    X_Search['E'] = np.where(X_Search['D']==X_Search['A'], 0, 1)\n",
    "    E_X_Search_L = sum(X_Search['Y']*X_Search['E'])*2/df.shape[0]\n",
    "    E_X_Search_R = sum(X_Search['Y']*(1-X_Search['E']))*2/df.shape[0]\n",
    "    print(str(k)+\" \\tChoice for X1 <\"+str(i)+\": \" + str(E_X_Search_L))\n",
    "    k = k+1\n",
    "    print(str(k)+\" \\tChoice for X1 >=\"+str(i)+\": \" + str(E_X_Search_R))\n",
    "    k = k+1\n",
    "    Results.append(E_X_Search_L) \n",
    "    Results.append(E_X_Search_R) "
   ]
  },
  {
   "cell_type": "code",
   "execution_count": 10,
   "metadata": {},
   "outputs": [
    {
     "name": "stdout",
     "output_type": "stream",
     "text": [
      "index: 9\n",
      "max: 61.284578\n"
     ]
    }
   ],
   "source": [
    "index, value = max(enumerate(Results), key=operator.itemgetter(1))\n",
    "print(\"index: \"+str(index))\n",
    "print(\"max: \"+str(value))"
   ]
  },
  {
   "cell_type": "markdown",
   "metadata": {},
   "source": [
    "### Case 3. var 2 (Cont 3)"
   ]
  },
  {
   "cell_type": "code",
   "execution_count": 11,
   "metadata": {},
   "outputs": [
    {
     "name": "stdout",
     "output_type": "stream",
     "text": [
      "0 \tChoice for X2 <1: 38.930102\n",
      "1 \tChoice for X2 >=1: 52.0278494\n",
      "2 \tChoice for X2 <2: 45.110042\n",
      "3 \tChoice for X2 >=2: 45.8479094\n",
      "4 \tChoice for X2 <3: 43.9285394\n",
      "5 \tChoice for X2 >=3: 47.029412\n",
      "6 \tChoice for X2 <4: 45.5578814\n",
      "7 \tChoice for X2 >=4: 45.40007\n",
      "8 \tChoice for X2 <5: 41.4163094\n",
      "9 \tChoice for X2 >=5: 49.541642\n",
      "10 \tChoice for X2 <6: 41.7051834\n",
      "11 \tChoice for X2 >=6: 49.252768\n",
      "12 \tChoice for X2 <7: 48.2001334\n",
      "13 \tChoice for X2 >=7: 42.757818\n",
      "14 \tChoice for X2 <8: 52.7313874\n",
      "15 \tChoice for X2 >=8: 38.226564\n",
      "16 \tChoice for X2 <9: 54.2355754\n",
      "17 \tChoice for X2 >=9: 36.722376\n",
      "18 \tChoice for X2 <10: 56.8355874\n",
      "19 \tChoice for X2 >=10: 34.122364\n"
     ]
    }
   ],
   "source": [
    "Results = []\n",
    "k = 0\n",
    "for i in unique_X2:\n",
    "    X_Search = df.copy()[['Cont3','A','Y']];\n",
    "    X_Search['D'] = df['Cont3'].apply(lambda x : 1 if x<i else 0)\n",
    "    X_Search['E'] = np.where(X_Search['D']==X_Search['A'], 0, 1)\n",
    "    E_X_Search_L = sum(X_Search['Y']*X_Search['E'])*2/df.shape[0]\n",
    "    E_X_Search_R = sum(X_Search['Y']*(1-X_Search['E']))*2/df.shape[0]\n",
    "    print(str(k)+\" \\tChoice for X2 <\"+str(i)+\": \" + str(E_X_Search_L))\n",
    "    k = k+1\n",
    "    print(str(k)+\" \\tChoice for X2 >=\"+str(i)+\": \" + str(E_X_Search_R))\n",
    "    k = k+1\n",
    "    Results.append(E_X_Search_L) \n",
    "    Results.append(E_X_Search_R) "
   ]
  },
  {
   "cell_type": "code",
   "execution_count": 12,
   "metadata": {},
   "outputs": [
    {
     "name": "stdout",
     "output_type": "stream",
     "text": [
      "index: 18\n",
      "max: 56.8355874\n"
     ]
    }
   ],
   "source": [
    "index, value = max(enumerate(Results), key=operator.itemgetter(1))\n",
    "print(\"index: \"+str(index))\n",
    "print(\"max: \"+str(value))"
   ]
  },
  {
   "cell_type": "markdown",
   "metadata": {},
   "source": [
    "### Case 4. var 3 (Ord 1)"
   ]
  },
  {
   "cell_type": "code",
   "execution_count": 13,
   "metadata": {},
   "outputs": [
    {
     "name": "stdout",
     "output_type": "stream",
     "text": [
      "0 \tChoice for X3 <1: 37.333322\n",
      "1 \tChoice for X3 >=1: 53.6246294\n",
      "2 \tChoice for X3 <2: 38.399154\n",
      "3 \tChoice for X3 >=2: 52.5587974\n",
      "4 \tChoice for X3 <3: 42.342138\n",
      "5 \tChoice for X3 >=3: 48.6158134\n",
      "6 \tChoice for X3 <4: 50.0971654\n",
      "7 \tChoice for X3 >=4: 40.860786\n",
      "8 \tChoice for X3 <5: 56.8355874\n",
      "9 \tChoice for X3 >=5: 34.122364\n"
     ]
    }
   ],
   "source": [
    "Results = []\n",
    "k = 0\n",
    "for i in unique_X3:\n",
    "    X_Search = df.copy()[['Ord1','A','Y']];\n",
    "    X_Search['D'] = df['Ord1'].apply(lambda x : 1 if x<i else 0)\n",
    "    X_Search['E'] = np.where(X_Search['D']==X_Search['A'], 0, 1)\n",
    "    E_X_Search_L = sum(X_Search['Y']*X_Search['E'])*2/df.shape[0]\n",
    "    E_X_Search_R = sum(X_Search['Y']*(1-X_Search['E']))*2/df.shape[0]\n",
    "    print(str(k)+\" \\tChoice for X3 <\"+str(i)+\": \" + str(E_X_Search_L))\n",
    "    k = k+1\n",
    "    print(str(k)+\" \\tChoice for X3 >=\"+str(i)+\": \" + str(E_X_Search_R))\n",
    "    k = k+1\n",
    "    Results.append(E_X_Search_L) \n",
    "    Results.append(E_X_Search_R) "
   ]
  },
  {
   "cell_type": "code",
   "execution_count": 14,
   "metadata": {},
   "outputs": [
    {
     "name": "stdout",
     "output_type": "stream",
     "text": [
      "index: 8\n",
      "max: 56.8355874\n"
     ]
    }
   ],
   "source": [
    "index, value = max(enumerate(Results), key=operator.itemgetter(1))\n",
    "print(\"index: \"+str(index))\n",
    "print(\"max: \"+str(value))"
   ]
  },
  {
   "cell_type": "markdown",
   "metadata": {},
   "source": [
    "### Case 5. var 4 (Ord 2)"
   ]
  },
  {
   "cell_type": "code",
   "execution_count": 15,
   "metadata": {},
   "outputs": [
    {
     "name": "stdout",
     "output_type": "stream",
     "text": [
      "0 \tChoice for X4 <1: 37.345148\n",
      "1 \tChoice for X4 >=1: 53.6128034\n",
      "2 \tChoice for X4 <2: 41.801006\n",
      "3 \tChoice for X4 >=2: 49.1569454\n",
      "4 \tChoice for X4 <3: 48.1087234\n",
      "5 \tChoice for X4 >=3: 42.849228\n",
      "6 \tChoice for X4 <4: 55.9730514\n",
      "7 \tChoice for X4 >=4: 34.9849\n",
      "8 \tChoice for X4 <5: 56.8355874\n",
      "9 \tChoice for X4 >=5: 34.122364\n"
     ]
    }
   ],
   "source": [
    "Results = []\n",
    "k = 0\n",
    "for i in unique_X4:\n",
    "    X_Search = df.copy()[['Ord2','A','Y']];\n",
    "    X_Search['D'] = df['Ord2'].apply(lambda x : 1 if x<i else 0)\n",
    "    X_Search['E'] = np.where(X_Search['D']==X_Search['A'], 0, 1)\n",
    "    E_X_Search_L = sum(X_Search['Y']*X_Search['E'])*2/df.shape[0]\n",
    "    E_X_Search_R = sum(X_Search['Y']*(1-X_Search['E']))*2/df.shape[0]\n",
    "    print(str(k)+\" \\tChoice for X4 <\"+str(i)+\": \" + str(E_X_Search_L))\n",
    "    k = k+1\n",
    "    print(str(k)+\" \\tChoice for X4 >=\"+str(i)+\": \" + str(E_X_Search_R))\n",
    "    k = k+1\n",
    "    Results.append(E_X_Search_L) \n",
    "    Results.append(E_X_Search_R) "
   ]
  },
  {
   "cell_type": "code",
   "execution_count": 16,
   "metadata": {},
   "outputs": [
    {
     "name": "stdout",
     "output_type": "stream",
     "text": [
      "index: 8\n",
      "max: 56.8355874\n"
     ]
    }
   ],
   "source": [
    "index, value = max(enumerate(Results), key=operator.itemgetter(1))\n",
    "print(\"index: \"+str(index))\n",
    "print(\"max: \"+str(value))"
   ]
  },
  {
   "cell_type": "markdown",
   "metadata": {},
   "source": [
    "### Case 6. var 5 (Ord 3)"
   ]
  },
  {
   "cell_type": "code",
   "execution_count": 17,
   "metadata": {},
   "outputs": [
    {
     "name": "stdout",
     "output_type": "stream",
     "text": [
      "0 \tChoice for X5 <1: 32.921272\n",
      "1 \tChoice for X5 >=1: 58.0366794\n",
      "2 \tChoice for X5 <2: 44.071096\n",
      "3 \tChoice for X5 >=2: 46.8868554\n",
      "4 \tChoice for X5 <3: 43.673372\n",
      "5 \tChoice for X5 >=3: 47.2845794\n",
      "6 \tChoice for X5 <4: 49.4834134\n",
      "7 \tChoice for X5 >=4: 41.474538\n",
      "8 \tChoice for X5 <5: 56.8355874\n",
      "9 \tChoice for X5 >=5: 34.122364\n"
     ]
    }
   ],
   "source": [
    "Results = []\n",
    "k = 0\n",
    "for i in unique_X5:\n",
    "    X_Search = df.copy()[['Ord3','A','Y']];\n",
    "    X_Search['D'] = df['Ord3'].apply(lambda x : 1 if x<i else 0)\n",
    "    X_Search['E'] = np.where(X_Search['D']==X_Search['A'], 0, 1)\n",
    "    E_X_Search_L = sum(X_Search['Y']*X_Search['E'])*2/df.shape[0]\n",
    "    E_X_Search_R = sum(X_Search['Y']*(1-X_Search['E']))*2/df.shape[0]\n",
    "    print(str(k)+\" \\tChoice for X5 <\"+str(i)+\": \" + str(E_X_Search_L))\n",
    "    k = k+1\n",
    "    print(str(k)+\" \\tChoice for X5 >=\"+str(i)+\": \" + str(E_X_Search_R))\n",
    "    k = k+1\n",
    "    Results.append(E_X_Search_L) \n",
    "    Results.append(E_X_Search_R) "
   ]
  },
  {
   "cell_type": "code",
   "execution_count": 18,
   "metadata": {},
   "outputs": [
    {
     "name": "stdout",
     "output_type": "stream",
     "text": [
      "index: 1\n",
      "max: 58.0366794\n"
     ]
    }
   ],
   "source": [
    "index, value = max(enumerate(Results), key=operator.itemgetter(1))\n",
    "print(\"index: \"+str(index))\n",
    "print(\"max: \"+str(value))"
   ]
  },
  {
   "cell_type": "markdown",
   "metadata": {},
   "source": [
    "### Case 7. var 6 (Nom 1)"
   ]
  },
  {
   "cell_type": "code",
   "execution_count": 19,
   "metadata": {},
   "outputs": [
    {
     "name": "stdout",
     "output_type": "stream",
     "text": [
      "0 \tChoice for X6 <0: 34.122364\n",
      "1 \tChoice for X6 >=0: 56.8355874\n",
      "2 \tChoice for X6 <1: 41.138344\n",
      "3 \tChoice for X6 >=1: 49.8196074\n",
      "4 \tChoice for X6 <2: 30.694016\n",
      "5 \tChoice for X6 >=2: 60.2639354\n",
      "6 \tChoice for X6 <3: 37.709996\n",
      "7 \tChoice for X6 >=3: 53.2479554\n",
      "8 \tChoice for X6 <4: 44.1934794\n",
      "9 \tChoice for X6 >=4: 46.764472\n",
      "10 \tChoice for X6 <5: 51.2094594\n",
      "11 \tChoice for X6 >=5: 39.748492\n",
      "12 \tChoice for X6 <6: 40.7651314\n",
      "13 \tChoice for X6 >=6: 50.19282\n",
      "14 \tChoice for X6 <7: 39.606242\n",
      "15 \tChoice for X6 >=7: 51.3517094\n",
      "16 \tChoice for X6 <8: 46.622222\n",
      "17 \tChoice for X6 >=8: 44.3357294\n",
      "18 \tChoice for X6 <9: 36.177894\n",
      "19 \tChoice for X6 >=9: 54.7800574\n",
      "20 \tChoice for X6 <10: 49.6773574\n",
      "21 \tChoice for X6 >=10: 41.280594\n",
      "22 \tChoice for X6 <11: 37.692962\n",
      "23 \tChoice for X6 >=11: 53.2649894\n",
      "24 \tChoice for X6 <12: 44.708942\n",
      "25 \tChoice for X6 >=12: 46.2490094\n",
      "26 \tChoice for X6 <13: 34.264614\n",
      "27 \tChoice for X6 >=13: 56.6933374\n",
      "28 \tChoice for X6 <14: 47.7640774\n",
      "29 \tChoice for X6 >=14: 43.193874\n",
      "30 \tChoice for X6 <15: 43.17684\n",
      "31 \tChoice for X6 >=15: 47.7811114\n"
     ]
    }
   ],
   "source": [
    "Results = []\n",
    "k = 0\n",
    "for i in range(len(sets_X6)):\n",
    "    X_Search = df.copy()[['Nom1','A','Y']];\n",
    "    X_Search['D'] = df['Nom1'].apply(lambda x : 1 if x in sets_X6[i] else 0)\n",
    "    X_Search['E'] = np.where(X_Search['D']==X_Search['A'], 0, 1)\n",
    "    E_X_Search_L = sum(X_Search['Y']*X_Search['E'])*2/df.shape[0]\n",
    "    E_X_Search_R = sum(X_Search['Y']*(1-X_Search['E']))*2/df.shape[0]\n",
    "    print(str(k)+\" \\tChoice for X6 <\"+str(i)+\": \" + str(E_X_Search_L))\n",
    "    k = k+1\n",
    "    print(str(k)+\" \\tChoice for X6 >=\"+str(i)+\": \" + str(E_X_Search_R))\n",
    "    k = k+1\n",
    "    Results.append(E_X_Search_L) \n",
    "    Results.append(E_X_Search_R) "
   ]
  },
  {
   "cell_type": "code",
   "execution_count": 20,
   "metadata": {},
   "outputs": [
    {
     "name": "stdout",
     "output_type": "stream",
     "text": [
      "index: 5\n",
      "max: 60.2639354\n"
     ]
    }
   ],
   "source": [
    "index, value = max(enumerate(Results), key=operator.itemgetter(1))\n",
    "print(\"index: \"+str(index))\n",
    "print(\"max: \"+str(value))"
   ]
  },
  {
   "cell_type": "markdown",
   "metadata": {},
   "source": [
    "### Case 8. var 7 (Nom 2)"
   ]
  },
  {
   "cell_type": "code",
   "execution_count": 21,
   "metadata": {},
   "outputs": [
    {
     "name": "stdout",
     "output_type": "stream",
     "text": [
      "0 \tChoice for X7 <0: 34.122364\n",
      "1 \tChoice for X7 >=0: 56.8355874\n",
      "2 \tChoice for X7 <1: 40.317024\n",
      "3 \tChoice for X7 >=1: 50.6409274\n",
      "4 \tChoice for X7 <2: 42.438954\n",
      "5 \tChoice for X7 >=2: 48.5189974\n",
      "6 \tChoice for X7 <3: 48.633614\n",
      "7 \tChoice for X7 >=3: 42.3243374\n",
      "8 \tChoice for X7 <4: 39.744408\n",
      "9 \tChoice for X7 >=4: 51.2135434\n",
      "10 \tChoice for X7 <5: 45.939068\n",
      "11 \tChoice for X7 >=5: 45.0188834\n",
      "12 \tChoice for X7 <6: 48.060998\n",
      "13 \tChoice for X7 >=6: 42.8969534\n",
      "14 \tChoice for X7 <7: 38.6230474\n",
      "15 \tChoice for X7 >=7: 52.334904\n",
      "16 \tChoice for X7 <8: 44.8177074\n",
      "17 \tChoice for X7 >=8: 46.140244\n",
      "18 \tChoice for X7 <9: 46.9396374\n",
      "19 \tChoice for X7 >=9: 44.018314\n",
      "20 \tChoice for X7 <10: 44.2450914\n",
      "21 \tChoice for X7 >=10: 46.71286\n",
      "22 \tChoice for X7 <11: 32.20161\n",
      "23 \tChoice for X7 >=11: 58.7563414\n",
      "24 \tChoice for X7 <12: 38.39627\n",
      "25 \tChoice for X7 >=12: 52.5616814\n",
      "26 \tChoice for X7 <13: 40.5182\n",
      "27 \tChoice for X7 >=13: 50.4397514\n",
      "28 \tChoice for X7 <14: 37.823654\n",
      "29 \tChoice for X7 >=14: 53.1342974\n",
      "30 \tChoice for X7 <15: 36.7022934\n",
      "31 \tChoice for X7 >=15: 54.255658\n"
     ]
    }
   ],
   "source": [
    "Results = []\n",
    "k = 0\n",
    "for i in range(len(sets_X7)):\n",
    "    X_Search = df.copy()[['Nom2','A','Y']];\n",
    "    X_Search['D'] = df['Nom2'].apply(lambda x : 1 if x in sets_X7[i] else 0)\n",
    "    X_Search['E'] = np.where(X_Search['D']==X_Search['A'], 0, 1)\n",
    "    E_X_Search_L = sum(X_Search['Y']*X_Search['E'])*2/df.shape[0]\n",
    "    E_X_Search_R = sum(X_Search['Y']*(1-X_Search['E']))*2/df.shape[0]\n",
    "    print(str(k)+\" \\tChoice for X7 <\"+str(i)+\": \" + str(E_X_Search_L))\n",
    "    k = k+1\n",
    "    print(str(k)+\" \\tChoice for X7 >=\"+str(i)+\": \" + str(E_X_Search_R))\n",
    "    k = k+1\n",
    "    Results.append(E_X_Search_L) \n",
    "    Results.append(E_X_Search_R) "
   ]
  },
  {
   "cell_type": "code",
   "execution_count": 22,
   "metadata": {},
   "outputs": [
    {
     "name": "stdout",
     "output_type": "stream",
     "text": [
      "index: 23\n",
      "max: 58.7563414\n"
     ]
    }
   ],
   "source": [
    "index, value = max(enumerate(Results), key=operator.itemgetter(1))\n",
    "print(\"index: \"+str(index))\n",
    "print(\"max: \"+str(value))"
   ]
  },
  {
   "cell_type": "markdown",
   "metadata": {},
   "source": [
    "### Case 9. var 8 (Nom 3)"
   ]
  },
  {
   "cell_type": "code",
   "execution_count": 23,
   "metadata": {},
   "outputs": [
    {
     "name": "stdout",
     "output_type": "stream",
     "text": [
      "0 \tChoice for X8 <0: 34.122364\n",
      "1 \tChoice for X8 >=0: 56.8355874\n",
      "2 \tChoice for X8 <1: 40.000362\n",
      "3 \tChoice for X8 >=1: 50.9575894\n",
      "4 \tChoice for X8 <2: 32.27922\n",
      "5 \tChoice for X8 >=2: 58.6787314\n",
      "6 \tChoice for X8 <3: 38.157218\n",
      "7 \tChoice for X8 >=3: 52.8007334\n",
      "8 \tChoice for X8 <4: 43.8414114\n",
      "9 \tChoice for X8 >=4: 47.11654\n",
      "10 \tChoice for X8 <5: 49.7194094\n",
      "11 \tChoice for X8 >=5: 41.238542\n",
      "12 \tChoice for X8 <6: 41.9982674\n",
      "13 \tChoice for X8 >=6: 48.959684\n",
      "14 \tChoice for X8 <7: 38.414678\n",
      "15 \tChoice for X8 >=7: 52.5432734\n",
      "16 \tChoice for X8 <8: 44.292676\n",
      "17 \tChoice for X8 >=8: 46.6652754\n",
      "18 \tChoice for X8 <9: 36.571534\n",
      "19 \tChoice for X8 >=9: 54.3864174\n",
      "20 \tChoice for X8 <10: 48.1337254\n",
      "21 \tChoice for X8 >=10: 42.824226\n",
      "22 \tChoice for X8 <11: 38.789372\n",
      "23 \tChoice for X8 >=11: 52.1685794\n",
      "24 \tChoice for X8 <12: 44.66737\n",
      "25 \tChoice for X8 >=12: 46.2905814\n",
      "26 \tChoice for X8 <13: 36.946228\n",
      "27 \tChoice for X8 >=13: 54.0117234\n",
      "28 \tChoice for X8 <14: 48.5084194\n",
      "29 \tChoice for X8 >=14: 42.449532\n",
      "30 \tChoice for X8 <15: 43.081686\n",
      "31 \tChoice for X8 >=15: 47.8762654\n"
     ]
    }
   ],
   "source": [
    "Results = []\n",
    "k = 0\n",
    "for i in range(len(sets_X8)):\n",
    "    X_Search = df.copy()[['Nom3','A','Y']];\n",
    "    X_Search['D'] = df['Nom3'].apply(lambda x : 1 if x in sets_X8[i] else 0)\n",
    "    X_Search['E'] = np.where(X_Search['D']==X_Search['A'], 0, 1)\n",
    "    E_X_Search_L = sum(X_Search['Y']*X_Search['E'])*2/df.shape[0]\n",
    "    E_X_Search_R = sum(X_Search['Y']*(1-X_Search['E']))*2/df.shape[0]\n",
    "    print(str(k)+\" \\tChoice for X8 <\"+str(i)+\": \" + str(E_X_Search_L))\n",
    "    k = k+1\n",
    "    print(str(k)+\" \\tChoice for X8 >=\"+str(i)+\": \" + str(E_X_Search_R))\n",
    "    k = k+1\n",
    "    Results.append(E_X_Search_L) \n",
    "    Results.append(E_X_Search_R) "
   ]
  },
  {
   "cell_type": "code",
   "execution_count": 24,
   "metadata": {},
   "outputs": [
    {
     "name": "stdout",
     "output_type": "stream",
     "text": [
      "index: 5\n",
      "max: 58.6787314\n"
     ]
    }
   ],
   "source": [
    "index, value = max(enumerate(Results), key=operator.itemgetter(1))\n",
    "print(\"index: \"+str(index))\n",
    "print(\"max: \"+str(value))"
   ]
  }
 ],
 "metadata": {
  "kernelspec": {
   "display_name": "Python 3",
   "language": "python",
   "name": "python3"
  },
  "language_info": {
   "codemirror_mode": {
    "name": "ipython",
    "version": 3
   },
   "file_extension": ".py",
   "mimetype": "text/x-python",
   "name": "python",
   "nbconvert_exporter": "python",
   "pygments_lexer": "ipython3",
   "version": "3.6.3"
  }
 },
 "nbformat": 4,
 "nbformat_minor": 2
}
